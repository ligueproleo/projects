{
  "nbformat": 4,
  "nbformat_minor": 0,
  "metadata": {
    "colab": {
      "provenance": []
    },
    "kernelspec": {
      "name": "python3",
      "display_name": "Python 3"
    },
    "language_info": {
      "name": "python"
    }
  },
  "cells": [
    {
      "cell_type": "markdown",
      "source": [
        "# Desafio4 - Leo - Lotofácil\n",
        "Desafio\n",
        "\n",
        "A planilha do dataset contém todos as informações disponibilizadas sobre os sorteios da Lotofácil, desde o primeiro sorteio. A Lotofácil é o concurso com a maior probabilidade de premiação. As regras da Lotofácil estão no site da CEF, e algumas mudanças estão refletidas nos dados.\n",
        "\n",
        "Na planilha há uma coluna Id (identificador binário) do sorteio, e os números sorteados em ordem crescente e ordem de sorteio. A coluna da Cidade indica onde houve ganhadores com 15 números. Quando não há ganhadores com 15 números, (a coluna gahadores é igual a zero), o valor é acumulado para o próximo sorteio.\n",
        "\n",
        "Há diversas hipóteses de estratégias para se ganhar na internet (combinações mágicas e infalíveis, sequencias no sorteio e entre sorteios, etc.\n",
        "\n",
        "A tarefa é:\n",
        "1. Criar um ou mais notebooks utilizando esta base.\n",
        "2. Efetuar a limpeza dos dados\n",
        "3. Efetuar a análise exploratória dos dados\n",
        "4. Utilizando as dicas \"mágicas\" encontradas na internet, fazer a engenharia de features para criar novos atributos em sua base (por exemplo, quantidade de números pares, números repetidos em relação ao sorteio anterior, etc.)\n",
        "5. Utilizar os algoritmos estudados nesta semana e nas duas semanas seguintes para criar um modelo que faça a previsão dos números sorteados.\n",
        "6. É muito, muito, muito provável que vocês não terão sucesso na etapa 5. Então, temos algumas perguntas para responder:\n",
        "    6.a. Porque não tive sucesso.\n",
        "    6.b. Qual a entropia destes dados?\n",
        "    6.c. Qual modelo teve o melhor resultado e porque?"
      ],
      "metadata": {
        "id": "VDMY33hh56yv"
      }
    },
    {
      "cell_type": "markdown",
      "source": [
        "O Estudo deve seguir a metodologia CRISP-DS, descrevendo as etapas realizadas.\n",
        "Ao final, coloquem também seus comentários.\n",
        "\n",
        "Entrega obrigatória até o dia 24/04 às 23h59."
      ],
      "metadata": {
        "id": "vcGDx51J6FPr"
      }
    },
    {
      "cell_type": "markdown",
      "source": [
        "## Preliminares: Estruturar o Trabalho Usando a Metodologia CRISP-DS\n",
        "\n",
        "A metodologia CRISP-DS visa trabalhar em ciclos mais curtos e acelerar a frequência com que geramos resultados valiosos para a área de negócios.\n",
        "\n",
        "Buscamos algumas fontes de informação sobre o uso prático da metodologia CRISP-DM/DS (Cross Industry Standard Process for Data Mining/Data Science):\n",
        "\n",
        "Site oficial do CRISP-DM: O site oficial do CRISP-DM (https://www.crisp-dm.eu/) oferece informações detalhadas sobre a metodologia, incluindo exemplos de casos de uso, exemplos de documentos e um guia de usuário que inclui um modelo de documento de projeto.\n",
        "\n",
        "Kaggle: Kaggle (https://www.kaggle.com/) é uma plataforma de ciência de dados que hospeda uma série de competições, bem como um repositório de projetos e conjuntos de dados de ciência de dados. Você pode procurar por projetos na plataforma e baixar o código fonte dos projetos que se encaixam na sua área de interesse.\n",
        "\n",
        "Github: Há diversos repositórios de DS de Universidades contendo coleções de projetos de alunos, que incluem modelos modelos baseados na metodologia CRISP-DM."
      ],
      "metadata": {
        "id": "qpOan7mb6HOk"
      }
    },
    {
      "cell_type": "markdown",
      "source": [
        "A CRISP-DS é uma abordagem em ciclos adaptada para Data Science baseada no CRISP-DM originalmente focado no data mining. As etapas do CRISP-DS que serão aqui utilizadas são (no original em inglês):\n",
        "\n",
        "\n",
        "1. Business Understanding\n",
        "\n",
        "  a. Business Problem\n",
        "\n",
        "  b. Business Understanding\n",
        "\n",
        "2. Data Undestanding\n",
        "  \n",
        "  a. Data Extraction\n",
        "  \n",
        "  b. Data Cleaning\n",
        "\n",
        "3. Data Preparation\n",
        " \n",
        "  a. Data Cleaning\n",
        " \n",
        "  b. EDA\n",
        "\n",
        "4. Modeling\n",
        "\n",
        "  a. Modeling\n",
        "\n",
        "  b. Machine Learning Algorithms\n",
        "\n",
        "5. Evaluation\n",
        "\n",
        "6. Deployment"
      ],
      "metadata": {
        "id": "HrqaDH6-sVRu"
      }
    },
    {
      "cell_type": "markdown",
      "source": [
        "# 1. Business Understanding\n",
        "\n",
        "## a. Business Problem\n",
        "\n",
        "O objetivo do é elaborar uma modelagem que permita predizer os números que serão sorteados na Lotofácil. No domínio da Lotofácil, quais os 15 números mais prováveis de serem sorteados.\n",
        "\n",
        "Dentro do universo das soluções IA temos problemas que podem ser descritivos, diagnósticos, preditivos e prescritivos. O nosso problema é preditivo.\n",
        "\n",
        "\n",
        "*   Critérios de sucesso do projeto: o sucesso do projeto será medido pela precisão das previsões feitas pelos modelos.\n",
        "\n",
        "*   Recursos disponíveis: neste caso, ê já temos um arquivo xlsx com o histórico de todos os resultados da Lotofácil, e computador pessol, 500G SSD e 12G RAM.\n",
        "\n",
        "## b. Business Understanding\n",
        "\n",
        "Antes de analisar os dados,entendemos que o problema proposto parece, em princípio, não ser passível de previsão com algum grau de confiança razoável, dado que, as probabilidades de se sortear qualquer um dos 25 números, não havendo qualquer vício, é idêntica, independendo do concurso. \n",
        "\n",
        "Na Lotofácil temos 25 números a serem escolhidos em cada aposta e o apostador pode apostar escolhendo entre 15 e 20 desses números. As apostas serão vencedoras caso ocorra uma coincidência entre parte dos números escolhidos com os 15 números sorteados. De 11 a 15 números coincidentes são as apostas premiadas com a divisão de um rateio pela Caixa Econômica Federal."
      ],
      "metadata": {
        "id": "AqDUAwIXtpx5"
      }
    },
    {
      "cell_type": "markdown",
      "source": [
        "# 2. Data Understanding\n",
        "\n",
        "Os passos iniciais são: importar a bibliotecas principais que normalmente são usadas nesses tipos de programas, carregar o conjunto de dados a analisar que está em um planilha do excel salvas em uma pasta compartilhada no google drive do autor, limpar os dados, realizar uma redução e descrever o resultado.\n",
        "\n",
        "## a. Data Extraction\n",
        "\n",
        "Carregamento da planilha do Excel contendo os dados dos sorteios da Lotofácil. O arquivo está em https://docs.google.com/spreadsheets/d/1FVQCNyYXFOjizXmGj8USGsbP5x0ZxoJq/edit?usp=sharing&ouid=105738311539795834540&rtpof=true&sd=true\n",
        "\n",
        "As perguntas típicas dessa fase do crisp-ds e suas respostas, são:\n",
        "\n",
        "1. Posso processar esses dados na minha máquina?\n",
        "2. Vou precisar de processamento em nuvem?\n",
        "3. Vejo algum tipo de restrição?\n",
        "\n",
        "## b. Data Cleaning \n",
        "\n",
        "Realizamos uma \"higienização\" dos dados, cuidando dos valo ausentes , remoção de duplicatas, transformar os tipos de dados, renomear colunas e tratar informações inconsistentes. Com isso vamos definir o conjunto de dados final para a fase EDA (Exploratory Data Analysis).\n",
        "\n",
        "### b.1) Valores ausentes:\n",
        "Optamos se vamos entrar com um valor baseado de um atributo, ou entrar manualmente com dados, ou ignorar o valor ausente (cuidando para não degenerar o dataframe)\n",
        "\n",
        "### b.2) Dados inconsistentes:\n",
        "Removemos as inconsistências, se necessário, convertendo dados em um formato semelhante.\n",
        "\n",
        "### b.3) Valores duplicados\n",
        "Removemos os registros duplicados.\n",
        "\n",
        "### b.4) Transformação de dados\n",
        "Na preparação dos dados para o EDA pode ser necessário transformar os dados para que eles possam ser analisados corretamente. Alguns casos são:\n",
        "\n",
        "* Campos categóricos: representam variáveis qualitativas e podem ser transformados em variáveis numéricas, por exemplo, usando codificação one-hot ou codificação ordinal.\n",
        "\n",
        "* Campos de data e hora: se o conjunto de dados inclui campos de data e hora, é comum transformá-los em valores numéricos que possam ser usados em análises estatísticas.\n",
        "\n",
        "* Campos de texto: em alguns casos, pode ser útil transformar campos de texto em uma representação numérica, por exemplo, usando a técnica de extração de recursos (feature extraction) como a contagem de palavras ou a codificação TF-IDF.\n",
        "\n",
        "* Campos com valores ausentes: se o conjunto de dados inclui campos com valores ausentes, pode ser necessário imputar esses valores para que o conjunto de dados possa ser analisado corretamente.\n",
        "\n",
        "* Campos com valores discrepantes: campos com valores discrepantes (outliers) podem precisar de tratamento especial, por exemplo, através da remoção dos outliers ou aplicação de técnicas de imputação mais robustas.\n",
        "\n",
        "* Campos com valores numéricos: alguns campos numéricos podem precisar de transformação para que possam ser usados em análises estatísticas, por exemplo, aplicando log ou raiz quadrada.\n",
        "\n",
        "Em geral, a escolha das transformações necessárias depende dos dados específicos que estão sendo analisados e do objetivo do estudo.\n",
        "\n",
        "### b.5) Redução de dados\n",
        "\n",
        "Pode ser adequado reduzir uma grande quantidade de dados em tamanhos menores. Os dados que não causam grande impacto na objetividade do negócio seriam descartados ou rejeitados para que não afetassem o restante dos dados.\n",
        "\n",
        "### b.6) Descrição dos dados\n",
        "\n",
        "Os dados foram adquiridos da base de dados da CEF, e contém todos os resultados históricos dos sorteios da Lotofácil, estão num arquivo tipo ..xlsx - excel, e contém ...... registros e ...... campos na tabela, listados a seguir no programa.\n",
        "Descobrimos, ou não, algumas outras características, seja ,,,,, ou ..... . \n",
        "\n",
        "Os dados adquiridos foram avaliados e atendem aos nossos requisitos mínimos para análise."
      ],
      "metadata": {
        "id": "-yRYS4BNwLAk"
      }
    },
    {
      "cell_type": "markdown",
      "source": [
        "# Carregar as bibliotecas"
      ],
      "metadata": {
        "id": "ETmIP-o5iNE7"
      }
    },
    {
      "cell_type": "code",
      "source": [
        "#Antes de extrair o conjunto de dados vamos carregar algumas bibliotecas usuais\n",
        "import pandas as pd #Armazenar e manipular dados em tabelas\n",
        "import numpy as np #Computação numérica\n",
        "import sklearn \n",
        "import matplotlib.gridspec as gridspec #Visualização de dados\n",
        "import seaborn as sns #Visualização de dados que usa matplot no background\n",
        "import matplotlib.pyplot as plt #Para plotar alguns parâmetros no seaborn\n",
        "import warnings #Para controlar as msgs de aviso "
      ],
      "metadata": {
        "id": "kkZBdyiw-yg6"
      },
      "execution_count": 35,
      "outputs": []
    },
    {
      "cell_type": "markdown",
      "source": [
        "## Data Understanding - Data Extraction"
      ],
      "metadata": {
        "id": "khxiEgQoFpxD"
      }
    },
    {
      "cell_type": "code",
      "source": [
        "# Carregando o dataset com informações da Lotofacil\n",
        "!wget https://docs.google.com/spreadsheets/d/1FVQCNyYXFOjizXmGj8USGsbP5x0ZxoJq/export?format=xlsx -O Sorteios_Completos.xlsx\n",
        "df = pd.read_excel('/content/Sorteios_Completos.xlsx')\n",
        "# Usamos o comando wget para baixar o arq diretamente do link e salvar localmente no ambiente \n",
        "# do Colab. É preciso utilizar o argumento \"-O\" para renomear o arquivo baixado \n",
        "# para o nome desejado (no caso, \"Sorteios_Completos.xlsx\")"
      ],
      "metadata": {
        "colab": {
          "base_uri": "https://localhost:8080/"
        },
        "outputId": "ed285952-dc1d-4a81-9c3e-25bc09fa44c8",
        "id": "43ktwYc4ZTSc"
      },
      "execution_count": 36,
      "outputs": [
        {
          "output_type": "stream",
          "name": "stdout",
          "text": [
            "--2023-04-24 23:40:12--  https://docs.google.com/spreadsheets/d/1FVQCNyYXFOjizXmGj8USGsbP5x0ZxoJq/export?format=xlsx\n",
            "Resolving docs.google.com (docs.google.com)... 142.251.111.101, 142.251.111.102, 142.251.111.138, ...\n",
            "Connecting to docs.google.com (docs.google.com)|142.251.111.101|:443... connected.\n",
            "HTTP request sent, awaiting response... 307 Temporary Redirect\n",
            "Location: https://doc-0k-3c-sheets.googleusercontent.com/export/n4743ueaoiib6is67cgugk097k/1icaj55j435chdbrlci9aul4ts/1682379610000/105738311539795834540/*/1FVQCNyYXFOjizXmGj8USGsbP5x0ZxoJq?format=xlsx [following]\n",
            "Warning: wildcards not supported in HTTP.\n",
            "--2023-04-24 23:40:12--  https://doc-0k-3c-sheets.googleusercontent.com/export/n4743ueaoiib6is67cgugk097k/1icaj55j435chdbrlci9aul4ts/1682379610000/105738311539795834540/*/1FVQCNyYXFOjizXmGj8USGsbP5x0ZxoJq?format=xlsx\n",
            "Resolving doc-0k-3c-sheets.googleusercontent.com (doc-0k-3c-sheets.googleusercontent.com)... 142.251.163.132, 2607:f8b0:4004:c1b::84\n",
            "Connecting to doc-0k-3c-sheets.googleusercontent.com (doc-0k-3c-sheets.googleusercontent.com)|142.251.163.132|:443... connected.\n",
            "HTTP request sent, awaiting response... 200 OK\n",
            "Length: unspecified [application/vnd.openxmlformats-officedocument.spreadsheetml.sheet]\n",
            "Saving to: ‘Sorteios_Completos.xlsx’\n",
            "\n",
            "Sorteios_Completos.     [ <=>                ] 844.62K  --.-KB/s    in 0.04s   \n",
            "\n",
            "2023-04-24 23:40:13 (20.1 MB/s) - ‘Sorteios_Completos.xlsx’ saved [864896]\n",
            "\n"
          ]
        }
      ]
    },
    {
      "cell_type": "markdown",
      "source": [
        "## Data Understanding - Data Cleaning"
      ],
      "metadata": {
        "id": "F0C76jQhiFHz"
      }
    },
    {
      "cell_type": "code",
      "source": [
        "# Conhecendo o formato do dataset.\n",
        "display(df.shape)\n",
        "# Dando uma verificada nos primeiros e últimos registros do dataframe\n",
        "display(df.head())\n",
        "display(df.tail())"
      ],
      "metadata": {
        "colab": {
          "base_uri": "https://localhost:8080/",
          "height": 934
        },
        "id": "Q0Ey26zbDkJq",
        "outputId": "87fc4661-14f4-4b03-baa2-de6a8707d0af"
      },
      "execution_count": 37,
      "outputs": [
        {
          "output_type": "display_data",
          "data": {
            "text/plain": [
              "(2780, 48)"
            ]
          },
          "metadata": {}
        },
        {
          "output_type": "display_data",
          "data": {
            "text/plain": [
              "   Concurso Data Sorteio        Id  Bola 01  Bola 02  Bola 03  Bola 04  \\\n",
              "0         1   2003-09-29  30062390        2        3        5        6   \n",
              "1         2   2003-10-06  13426041        1        4        5        6   \n",
              "2         3   2003-10-13  13217769        1        4        6        7   \n",
              "3         4   2003-10-20  29858459        1        2        4        5   \n",
              "4         5   2003-10-27  30203275        1        2        4        8   \n",
              "\n",
              "   Bola 05  Bola 06  Bola 07  ...  Ganhadores 11 Números  \\\n",
              "0        9       10       11  ...                 257593   \n",
              "1        7        9       11  ...                 478188   \n",
              "2        8        9       10  ...                 608211   \n",
              "3        8       10       12  ...                 706657   \n",
              "4        9       11       12  ...                 860992   \n",
              "\n",
              "   Valor Rateio 15 Números  Valor Rateio 14 Números  Valor Rateio 13 Números  \\\n",
              "0                 49765.82                   689.84                     10.0   \n",
              "1                596323.70                  1388.95                     10.0   \n",
              "2                400623.70                  2173.36                     10.0   \n",
              "3                902226.02                  1498.72                     10.0   \n",
              "4                380017.55                   687.49                     10.0   \n",
              "\n",
              "   Valor Rateio 12 Números  Valor Rateio 11 Números  Acumulado 15 Números  \\\n",
              "0                        4                      2.0                   0.0   \n",
              "1                        4                      2.0                   0.0   \n",
              "2                        4                      2.0                   0.0   \n",
              "3                        4                      2.0                   0.0   \n",
              "4                        4                      2.0                   0.0   \n",
              "\n",
              "   Estimativa Prêmio  Valor Acumulado Especial  Local 15 Números  \n",
              "0                NaN                       NaN        BA, PR, SP  \n",
              "1                NaN                       NaN                SP  \n",
              "2                NaN                       NaN                SP  \n",
              "3                NaN                       NaN                MT  \n",
              "4                NaN                       NaN            BA, MS  \n",
              "\n",
              "[5 rows x 48 columns]"
            ],
            "text/html": [
              "\n",
              "  <div id=\"df-069783f5-ef92-4654-82aa-65db315d8995\">\n",
              "    <div class=\"colab-df-container\">\n",
              "      <div>\n",
              "<style scoped>\n",
              "    .dataframe tbody tr th:only-of-type {\n",
              "        vertical-align: middle;\n",
              "    }\n",
              "\n",
              "    .dataframe tbody tr th {\n",
              "        vertical-align: top;\n",
              "    }\n",
              "\n",
              "    .dataframe thead th {\n",
              "        text-align: right;\n",
              "    }\n",
              "</style>\n",
              "<table border=\"1\" class=\"dataframe\">\n",
              "  <thead>\n",
              "    <tr style=\"text-align: right;\">\n",
              "      <th></th>\n",
              "      <th>Concurso</th>\n",
              "      <th>Data Sorteio</th>\n",
              "      <th>Id</th>\n",
              "      <th>Bola 01</th>\n",
              "      <th>Bola 02</th>\n",
              "      <th>Bola 03</th>\n",
              "      <th>Bola 04</th>\n",
              "      <th>Bola 05</th>\n",
              "      <th>Bola 06</th>\n",
              "      <th>Bola 07</th>\n",
              "      <th>...</th>\n",
              "      <th>Ganhadores 11 Números</th>\n",
              "      <th>Valor Rateio 15 Números</th>\n",
              "      <th>Valor Rateio 14 Números</th>\n",
              "      <th>Valor Rateio 13 Números</th>\n",
              "      <th>Valor Rateio 12 Números</th>\n",
              "      <th>Valor Rateio 11 Números</th>\n",
              "      <th>Acumulado 15 Números</th>\n",
              "      <th>Estimativa Prêmio</th>\n",
              "      <th>Valor Acumulado Especial</th>\n",
              "      <th>Local 15 Números</th>\n",
              "    </tr>\n",
              "  </thead>\n",
              "  <tbody>\n",
              "    <tr>\n",
              "      <th>0</th>\n",
              "      <td>1</td>\n",
              "      <td>2003-09-29</td>\n",
              "      <td>30062390</td>\n",
              "      <td>2</td>\n",
              "      <td>3</td>\n",
              "      <td>5</td>\n",
              "      <td>6</td>\n",
              "      <td>9</td>\n",
              "      <td>10</td>\n",
              "      <td>11</td>\n",
              "      <td>...</td>\n",
              "      <td>257593</td>\n",
              "      <td>49765.82</td>\n",
              "      <td>689.84</td>\n",
              "      <td>10.0</td>\n",
              "      <td>4</td>\n",
              "      <td>2.0</td>\n",
              "      <td>0.0</td>\n",
              "      <td>NaN</td>\n",
              "      <td>NaN</td>\n",
              "      <td>BA, PR, SP</td>\n",
              "    </tr>\n",
              "    <tr>\n",
              "      <th>1</th>\n",
              "      <td>2</td>\n",
              "      <td>2003-10-06</td>\n",
              "      <td>13426041</td>\n",
              "      <td>1</td>\n",
              "      <td>4</td>\n",
              "      <td>5</td>\n",
              "      <td>6</td>\n",
              "      <td>7</td>\n",
              "      <td>9</td>\n",
              "      <td>11</td>\n",
              "      <td>...</td>\n",
              "      <td>478188</td>\n",
              "      <td>596323.70</td>\n",
              "      <td>1388.95</td>\n",
              "      <td>10.0</td>\n",
              "      <td>4</td>\n",
              "      <td>2.0</td>\n",
              "      <td>0.0</td>\n",
              "      <td>NaN</td>\n",
              "      <td>NaN</td>\n",
              "      <td>SP</td>\n",
              "    </tr>\n",
              "    <tr>\n",
              "      <th>2</th>\n",
              "      <td>3</td>\n",
              "      <td>2003-10-13</td>\n",
              "      <td>13217769</td>\n",
              "      <td>1</td>\n",
              "      <td>4</td>\n",
              "      <td>6</td>\n",
              "      <td>7</td>\n",
              "      <td>8</td>\n",
              "      <td>9</td>\n",
              "      <td>10</td>\n",
              "      <td>...</td>\n",
              "      <td>608211</td>\n",
              "      <td>400623.70</td>\n",
              "      <td>2173.36</td>\n",
              "      <td>10.0</td>\n",
              "      <td>4</td>\n",
              "      <td>2.0</td>\n",
              "      <td>0.0</td>\n",
              "      <td>NaN</td>\n",
              "      <td>NaN</td>\n",
              "      <td>SP</td>\n",
              "    </tr>\n",
              "    <tr>\n",
              "      <th>3</th>\n",
              "      <td>4</td>\n",
              "      <td>2003-10-20</td>\n",
              "      <td>29858459</td>\n",
              "      <td>1</td>\n",
              "      <td>2</td>\n",
              "      <td>4</td>\n",
              "      <td>5</td>\n",
              "      <td>8</td>\n",
              "      <td>10</td>\n",
              "      <td>12</td>\n",
              "      <td>...</td>\n",
              "      <td>706657</td>\n",
              "      <td>902226.02</td>\n",
              "      <td>1498.72</td>\n",
              "      <td>10.0</td>\n",
              "      <td>4</td>\n",
              "      <td>2.0</td>\n",
              "      <td>0.0</td>\n",
              "      <td>NaN</td>\n",
              "      <td>NaN</td>\n",
              "      <td>MT</td>\n",
              "    </tr>\n",
              "    <tr>\n",
              "      <th>4</th>\n",
              "      <td>5</td>\n",
              "      <td>2003-10-27</td>\n",
              "      <td>30203275</td>\n",
              "      <td>1</td>\n",
              "      <td>2</td>\n",
              "      <td>4</td>\n",
              "      <td>8</td>\n",
              "      <td>9</td>\n",
              "      <td>11</td>\n",
              "      <td>12</td>\n",
              "      <td>...</td>\n",
              "      <td>860992</td>\n",
              "      <td>380017.55</td>\n",
              "      <td>687.49</td>\n",
              "      <td>10.0</td>\n",
              "      <td>4</td>\n",
              "      <td>2.0</td>\n",
              "      <td>0.0</td>\n",
              "      <td>NaN</td>\n",
              "      <td>NaN</td>\n",
              "      <td>BA, MS</td>\n",
              "    </tr>\n",
              "  </tbody>\n",
              "</table>\n",
              "<p>5 rows × 48 columns</p>\n",
              "</div>\n",
              "      <button class=\"colab-df-convert\" onclick=\"convertToInteractive('df-069783f5-ef92-4654-82aa-65db315d8995')\"\n",
              "              title=\"Convert this dataframe to an interactive table.\"\n",
              "              style=\"display:none;\">\n",
              "        \n",
              "  <svg xmlns=\"http://www.w3.org/2000/svg\" height=\"24px\"viewBox=\"0 0 24 24\"\n",
              "       width=\"24px\">\n",
              "    <path d=\"M0 0h24v24H0V0z\" fill=\"none\"/>\n",
              "    <path d=\"M18.56 5.44l.94 2.06.94-2.06 2.06-.94-2.06-.94-.94-2.06-.94 2.06-2.06.94zm-11 1L8.5 8.5l.94-2.06 2.06-.94-2.06-.94L8.5 2.5l-.94 2.06-2.06.94zm10 10l.94 2.06.94-2.06 2.06-.94-2.06-.94-.94-2.06-.94 2.06-2.06.94z\"/><path d=\"M17.41 7.96l-1.37-1.37c-.4-.4-.92-.59-1.43-.59-.52 0-1.04.2-1.43.59L10.3 9.45l-7.72 7.72c-.78.78-.78 2.05 0 2.83L4 21.41c.39.39.9.59 1.41.59.51 0 1.02-.2 1.41-.59l7.78-7.78 2.81-2.81c.8-.78.8-2.07 0-2.86zM5.41 20L4 18.59l7.72-7.72 1.47 1.35L5.41 20z\"/>\n",
              "  </svg>\n",
              "      </button>\n",
              "      \n",
              "  <style>\n",
              "    .colab-df-container {\n",
              "      display:flex;\n",
              "      flex-wrap:wrap;\n",
              "      gap: 12px;\n",
              "    }\n",
              "\n",
              "    .colab-df-convert {\n",
              "      background-color: #E8F0FE;\n",
              "      border: none;\n",
              "      border-radius: 50%;\n",
              "      cursor: pointer;\n",
              "      display: none;\n",
              "      fill: #1967D2;\n",
              "      height: 32px;\n",
              "      padding: 0 0 0 0;\n",
              "      width: 32px;\n",
              "    }\n",
              "\n",
              "    .colab-df-convert:hover {\n",
              "      background-color: #E2EBFA;\n",
              "      box-shadow: 0px 1px 2px rgba(60, 64, 67, 0.3), 0px 1px 3px 1px rgba(60, 64, 67, 0.15);\n",
              "      fill: #174EA6;\n",
              "    }\n",
              "\n",
              "    [theme=dark] .colab-df-convert {\n",
              "      background-color: #3B4455;\n",
              "      fill: #D2E3FC;\n",
              "    }\n",
              "\n",
              "    [theme=dark] .colab-df-convert:hover {\n",
              "      background-color: #434B5C;\n",
              "      box-shadow: 0px 1px 3px 1px rgba(0, 0, 0, 0.15);\n",
              "      filter: drop-shadow(0px 1px 2px rgba(0, 0, 0, 0.3));\n",
              "      fill: #FFFFFF;\n",
              "    }\n",
              "  </style>\n",
              "\n",
              "      <script>\n",
              "        const buttonEl =\n",
              "          document.querySelector('#df-069783f5-ef92-4654-82aa-65db315d8995 button.colab-df-convert');\n",
              "        buttonEl.style.display =\n",
              "          google.colab.kernel.accessAllowed ? 'block' : 'none';\n",
              "\n",
              "        async function convertToInteractive(key) {\n",
              "          const element = document.querySelector('#df-069783f5-ef92-4654-82aa-65db315d8995');\n",
              "          const dataTable =\n",
              "            await google.colab.kernel.invokeFunction('convertToInteractive',\n",
              "                                                     [key], {});\n",
              "          if (!dataTable) return;\n",
              "\n",
              "          const docLinkHtml = 'Like what you see? Visit the ' +\n",
              "            '<a target=\"_blank\" href=https://colab.research.google.com/notebooks/data_table.ipynb>data table notebook</a>'\n",
              "            + ' to learn more about interactive tables.';\n",
              "          element.innerHTML = '';\n",
              "          dataTable['output_type'] = 'display_data';\n",
              "          await google.colab.output.renderOutput(dataTable, element);\n",
              "          const docLink = document.createElement('div');\n",
              "          docLink.innerHTML = docLinkHtml;\n",
              "          element.appendChild(docLink);\n",
              "        }\n",
              "      </script>\n",
              "    </div>\n",
              "  </div>\n",
              "  "
            ]
          },
          "metadata": {}
        },
        {
          "output_type": "display_data",
          "data": {
            "text/plain": [
              "      Concurso Data Sorteio        Id  Bola 01  Bola 02  Bola 03  Bola 04  \\\n",
              "2775      2776   2023-03-30   7305371        1        2        4        5   \n",
              "2776      2777   2023-03-31  26836452        3        6        7        8   \n",
              "2777      2778   2023-04-01  19816249        1        4        5        6   \n",
              "2778      2779   2023-04-03  22695907        1        2        6        7   \n",
              "2779      2780   2023-04-04  16594764        3        4        7        9   \n",
              "\n",
              "      Bola 05  Bola 06  Bola 07  ...  Ganhadores 11 Números  \\\n",
              "2775        8       12       13  ...                 618841   \n",
              "2776        9       11       12  ...                 667265   \n",
              "2777        9       10       11  ...                1088427   \n",
              "2778        8        9       10  ...                 727344   \n",
              "2779       10       11       13  ...                1420335   \n",
              "\n",
              "      Valor Rateio 15 Números  Valor Rateio 14 Números  \\\n",
              "2775               1253253.60                  1449.41   \n",
              "2776                     0.00                  1819.84   \n",
              "2777                550881.99                  1230.58   \n",
              "2778                714071.85                  1671.03   \n",
              "2779               1146174.41                   412.81   \n",
              "\n",
              "      Valor Rateio 13 Números  Valor Rateio 12 Números  \\\n",
              "2775                     25.0                       10   \n",
              "2776                     25.0                       10   \n",
              "2777                     25.0                       10   \n",
              "2778                     25.0                       10   \n",
              "2779                     25.0                       10   \n",
              "\n",
              "      Valor Rateio 11 Números  Acumulado 15 Números  Estimativa Prêmio  \\\n",
              "2775                      5.0                  0.00          1500000.0   \n",
              "2776                      5.0            1744522.97          4500000.0   \n",
              "2777                      5.0                  0.00          1500000.0   \n",
              "2778                      5.0            2339257.30          5000000.0   \n",
              "2779                      5.0                  0.00          1500000.0   \n",
              "\n",
              "      Valor Acumulado Especial  \\\n",
              "2775               64667910.41   \n",
              "2776               65089972.43   \n",
              "2777               65600855.74   \n",
              "2778               65946374.39   \n",
              "2779               66414174.47   \n",
              "\n",
              "                                       Local 15 Números  \n",
              "2775                                       Sao Paulo/SP  \n",
              "2776                                                NaN  \n",
              "2777  Machado/MG, Campo Grande/MS, Cuiaba/MT, Dom Aq...  \n",
              "2778             Canal Eletronico/--, Lagoa Vermelha/RS  \n",
              "2779  Nova Venecia/ES, Anapolis/GO, Itapetininga/SP,...  \n",
              "\n",
              "[5 rows x 48 columns]"
            ],
            "text/html": [
              "\n",
              "  <div id=\"df-4d7431f5-e150-4f30-bc45-2595ec27ba48\">\n",
              "    <div class=\"colab-df-container\">\n",
              "      <div>\n",
              "<style scoped>\n",
              "    .dataframe tbody tr th:only-of-type {\n",
              "        vertical-align: middle;\n",
              "    }\n",
              "\n",
              "    .dataframe tbody tr th {\n",
              "        vertical-align: top;\n",
              "    }\n",
              "\n",
              "    .dataframe thead th {\n",
              "        text-align: right;\n",
              "    }\n",
              "</style>\n",
              "<table border=\"1\" class=\"dataframe\">\n",
              "  <thead>\n",
              "    <tr style=\"text-align: right;\">\n",
              "      <th></th>\n",
              "      <th>Concurso</th>\n",
              "      <th>Data Sorteio</th>\n",
              "      <th>Id</th>\n",
              "      <th>Bola 01</th>\n",
              "      <th>Bola 02</th>\n",
              "      <th>Bola 03</th>\n",
              "      <th>Bola 04</th>\n",
              "      <th>Bola 05</th>\n",
              "      <th>Bola 06</th>\n",
              "      <th>Bola 07</th>\n",
              "      <th>...</th>\n",
              "      <th>Ganhadores 11 Números</th>\n",
              "      <th>Valor Rateio 15 Números</th>\n",
              "      <th>Valor Rateio 14 Números</th>\n",
              "      <th>Valor Rateio 13 Números</th>\n",
              "      <th>Valor Rateio 12 Números</th>\n",
              "      <th>Valor Rateio 11 Números</th>\n",
              "      <th>Acumulado 15 Números</th>\n",
              "      <th>Estimativa Prêmio</th>\n",
              "      <th>Valor Acumulado Especial</th>\n",
              "      <th>Local 15 Números</th>\n",
              "    </tr>\n",
              "  </thead>\n",
              "  <tbody>\n",
              "    <tr>\n",
              "      <th>2775</th>\n",
              "      <td>2776</td>\n",
              "      <td>2023-03-30</td>\n",
              "      <td>7305371</td>\n",
              "      <td>1</td>\n",
              "      <td>2</td>\n",
              "      <td>4</td>\n",
              "      <td>5</td>\n",
              "      <td>8</td>\n",
              "      <td>12</td>\n",
              "      <td>13</td>\n",
              "      <td>...</td>\n",
              "      <td>618841</td>\n",
              "      <td>1253253.60</td>\n",
              "      <td>1449.41</td>\n",
              "      <td>25.0</td>\n",
              "      <td>10</td>\n",
              "      <td>5.0</td>\n",
              "      <td>0.00</td>\n",
              "      <td>1500000.0</td>\n",
              "      <td>64667910.41</td>\n",
              "      <td>Sao Paulo/SP</td>\n",
              "    </tr>\n",
              "    <tr>\n",
              "      <th>2776</th>\n",
              "      <td>2777</td>\n",
              "      <td>2023-03-31</td>\n",
              "      <td>26836452</td>\n",
              "      <td>3</td>\n",
              "      <td>6</td>\n",
              "      <td>7</td>\n",
              "      <td>8</td>\n",
              "      <td>9</td>\n",
              "      <td>11</td>\n",
              "      <td>12</td>\n",
              "      <td>...</td>\n",
              "      <td>667265</td>\n",
              "      <td>0.00</td>\n",
              "      <td>1819.84</td>\n",
              "      <td>25.0</td>\n",
              "      <td>10</td>\n",
              "      <td>5.0</td>\n",
              "      <td>1744522.97</td>\n",
              "      <td>4500000.0</td>\n",
              "      <td>65089972.43</td>\n",
              "      <td>NaN</td>\n",
              "    </tr>\n",
              "    <tr>\n",
              "      <th>2777</th>\n",
              "      <td>2778</td>\n",
              "      <td>2023-04-01</td>\n",
              "      <td>19816249</td>\n",
              "      <td>1</td>\n",
              "      <td>4</td>\n",
              "      <td>5</td>\n",
              "      <td>6</td>\n",
              "      <td>9</td>\n",
              "      <td>10</td>\n",
              "      <td>11</td>\n",
              "      <td>...</td>\n",
              "      <td>1088427</td>\n",
              "      <td>550881.99</td>\n",
              "      <td>1230.58</td>\n",
              "      <td>25.0</td>\n",
              "      <td>10</td>\n",
              "      <td>5.0</td>\n",
              "      <td>0.00</td>\n",
              "      <td>1500000.0</td>\n",
              "      <td>65600855.74</td>\n",
              "      <td>Machado/MG, Campo Grande/MS, Cuiaba/MT, Dom Aq...</td>\n",
              "    </tr>\n",
              "    <tr>\n",
              "      <th>2778</th>\n",
              "      <td>2779</td>\n",
              "      <td>2023-04-03</td>\n",
              "      <td>22695907</td>\n",
              "      <td>1</td>\n",
              "      <td>2</td>\n",
              "      <td>6</td>\n",
              "      <td>7</td>\n",
              "      <td>8</td>\n",
              "      <td>9</td>\n",
              "      <td>10</td>\n",
              "      <td>...</td>\n",
              "      <td>727344</td>\n",
              "      <td>714071.85</td>\n",
              "      <td>1671.03</td>\n",
              "      <td>25.0</td>\n",
              "      <td>10</td>\n",
              "      <td>5.0</td>\n",
              "      <td>2339257.30</td>\n",
              "      <td>5000000.0</td>\n",
              "      <td>65946374.39</td>\n",
              "      <td>Canal Eletronico/--, Lagoa Vermelha/RS</td>\n",
              "    </tr>\n",
              "    <tr>\n",
              "      <th>2779</th>\n",
              "      <td>2780</td>\n",
              "      <td>2023-04-04</td>\n",
              "      <td>16594764</td>\n",
              "      <td>3</td>\n",
              "      <td>4</td>\n",
              "      <td>7</td>\n",
              "      <td>9</td>\n",
              "      <td>10</td>\n",
              "      <td>11</td>\n",
              "      <td>13</td>\n",
              "      <td>...</td>\n",
              "      <td>1420335</td>\n",
              "      <td>1146174.41</td>\n",
              "      <td>412.81</td>\n",
              "      <td>25.0</td>\n",
              "      <td>10</td>\n",
              "      <td>5.0</td>\n",
              "      <td>0.00</td>\n",
              "      <td>1500000.0</td>\n",
              "      <td>66414174.47</td>\n",
              "      <td>Nova Venecia/ES, Anapolis/GO, Itapetininga/SP,...</td>\n",
              "    </tr>\n",
              "  </tbody>\n",
              "</table>\n",
              "<p>5 rows × 48 columns</p>\n",
              "</div>\n",
              "      <button class=\"colab-df-convert\" onclick=\"convertToInteractive('df-4d7431f5-e150-4f30-bc45-2595ec27ba48')\"\n",
              "              title=\"Convert this dataframe to an interactive table.\"\n",
              "              style=\"display:none;\">\n",
              "        \n",
              "  <svg xmlns=\"http://www.w3.org/2000/svg\" height=\"24px\"viewBox=\"0 0 24 24\"\n",
              "       width=\"24px\">\n",
              "    <path d=\"M0 0h24v24H0V0z\" fill=\"none\"/>\n",
              "    <path d=\"M18.56 5.44l.94 2.06.94-2.06 2.06-.94-2.06-.94-.94-2.06-.94 2.06-2.06.94zm-11 1L8.5 8.5l.94-2.06 2.06-.94-2.06-.94L8.5 2.5l-.94 2.06-2.06.94zm10 10l.94 2.06.94-2.06 2.06-.94-2.06-.94-.94-2.06-.94 2.06-2.06.94z\"/><path d=\"M17.41 7.96l-1.37-1.37c-.4-.4-.92-.59-1.43-.59-.52 0-1.04.2-1.43.59L10.3 9.45l-7.72 7.72c-.78.78-.78 2.05 0 2.83L4 21.41c.39.39.9.59 1.41.59.51 0 1.02-.2 1.41-.59l7.78-7.78 2.81-2.81c.8-.78.8-2.07 0-2.86zM5.41 20L4 18.59l7.72-7.72 1.47 1.35L5.41 20z\"/>\n",
              "  </svg>\n",
              "      </button>\n",
              "      \n",
              "  <style>\n",
              "    .colab-df-container {\n",
              "      display:flex;\n",
              "      flex-wrap:wrap;\n",
              "      gap: 12px;\n",
              "    }\n",
              "\n",
              "    .colab-df-convert {\n",
              "      background-color: #E8F0FE;\n",
              "      border: none;\n",
              "      border-radius: 50%;\n",
              "      cursor: pointer;\n",
              "      display: none;\n",
              "      fill: #1967D2;\n",
              "      height: 32px;\n",
              "      padding: 0 0 0 0;\n",
              "      width: 32px;\n",
              "    }\n",
              "\n",
              "    .colab-df-convert:hover {\n",
              "      background-color: #E2EBFA;\n",
              "      box-shadow: 0px 1px 2px rgba(60, 64, 67, 0.3), 0px 1px 3px 1px rgba(60, 64, 67, 0.15);\n",
              "      fill: #174EA6;\n",
              "    }\n",
              "\n",
              "    [theme=dark] .colab-df-convert {\n",
              "      background-color: #3B4455;\n",
              "      fill: #D2E3FC;\n",
              "    }\n",
              "\n",
              "    [theme=dark] .colab-df-convert:hover {\n",
              "      background-color: #434B5C;\n",
              "      box-shadow: 0px 1px 3px 1px rgba(0, 0, 0, 0.15);\n",
              "      filter: drop-shadow(0px 1px 2px rgba(0, 0, 0, 0.3));\n",
              "      fill: #FFFFFF;\n",
              "    }\n",
              "  </style>\n",
              "\n",
              "      <script>\n",
              "        const buttonEl =\n",
              "          document.querySelector('#df-4d7431f5-e150-4f30-bc45-2595ec27ba48 button.colab-df-convert');\n",
              "        buttonEl.style.display =\n",
              "          google.colab.kernel.accessAllowed ? 'block' : 'none';\n",
              "\n",
              "        async function convertToInteractive(key) {\n",
              "          const element = document.querySelector('#df-4d7431f5-e150-4f30-bc45-2595ec27ba48');\n",
              "          const dataTable =\n",
              "            await google.colab.kernel.invokeFunction('convertToInteractive',\n",
              "                                                     [key], {});\n",
              "          if (!dataTable) return;\n",
              "\n",
              "          const docLinkHtml = 'Like what you see? Visit the ' +\n",
              "            '<a target=\"_blank\" href=https://colab.research.google.com/notebooks/data_table.ipynb>data table notebook</a>'\n",
              "            + ' to learn more about interactive tables.';\n",
              "          element.innerHTML = '';\n",
              "          dataTable['output_type'] = 'display_data';\n",
              "          await google.colab.output.renderOutput(dataTable, element);\n",
              "          const docLink = document.createElement('div');\n",
              "          docLink.innerHTML = docLinkHtml;\n",
              "          element.appendChild(docLink);\n",
              "        }\n",
              "      </script>\n",
              "    </div>\n",
              "  </div>\n",
              "  "
            ]
          },
          "metadata": {}
        }
      ]
    },
    {
      "cell_type": "markdown",
      "source": [
        "Em princípio, parece viável computar esses dados sem maiores problemas. Trata-se de um dataframe relativamente pequeno e não é necessário utilizar processamento na nuvem, apesar que o ambiente usado, o google colab, já é um espaço na nuvem. Acreditamos que temos os recursos necessários para processar todas as linhas de dados. Portanto, não temos restrições, a priori, e podemos seguir com a limpeza dos dados."
      ],
      "metadata": {
        "id": "veywAd2qlfpj"
      }
    },
    {
      "cell_type": "code",
      "source": [
        "# converter o formato da coluna de datas\n",
        "df['Data Sorteio'] = pd.to_datetime(df['Data Sorteio'], format='%Y/%m/%d')\n",
        "print(df['Data Sorteio'].head(1))"
      ],
      "metadata": {
        "colab": {
          "base_uri": "https://localhost:8080/"
        },
        "id": "ZAm3NGneSe8B",
        "outputId": "7de8ce76-94d3-492f-8936-584cbbe371ed"
      },
      "execution_count": 38,
      "outputs": [
        {
          "output_type": "stream",
          "name": "stdout",
          "text": [
            "0   2003-09-29\n",
            "Name: Data Sorteio, dtype: datetime64[ns]\n"
          ]
        }
      ]
    },
    {
      "cell_type": "code",
      "source": [
        "# a) Valores ausentes: verificar quais colunas possuem valores ausentes\n",
        "df.isnull().sum()\n",
        "#print(df.isnull().sum())"
      ],
      "metadata": {
        "colab": {
          "base_uri": "https://localhost:8080/"
        },
        "id": "soYLDROInVi1",
        "outputId": "3998acaa-9a40-4685-bc97-66b9a8fc6a43"
      },
      "execution_count": 40,
      "outputs": [
        {
          "output_type": "execute_result",
          "data": {
            "text/plain": [
              "Concurso                      0\n",
              "Data Sorteio                  0\n",
              "Id                            0\n",
              "Bola 01                       0\n",
              "Bola 02                       0\n",
              "Bola 03                       0\n",
              "Bola 04                       0\n",
              "Bola 05                       0\n",
              "Bola 06                       0\n",
              "Bola 07                       0\n",
              "Bola 08                       0\n",
              "Bola 09                       0\n",
              "Bola 10                       0\n",
              "Bola 11                       0\n",
              "Bola 12                       0\n",
              "Bola 13                       0\n",
              "Bola 14                       0\n",
              "Bola 15                       0\n",
              "Sorteado 01                   0\n",
              "Sorteado 02                   0\n",
              "Sorteado 03                   0\n",
              "Sorteado 04                   0\n",
              "Sorteado 05                   0\n",
              "Sorteado 06                   0\n",
              "Sorteado 07                   0\n",
              "Sorteado 08                   0\n",
              "Sorteado 09                   0\n",
              "Sorteado 10                   0\n",
              "Sorteado 11                   0\n",
              "Sorteado 12                   0\n",
              "Sorteado 13                   0\n",
              "Sorteado 14                   0\n",
              "Sorteado 15                   0\n",
              "Arrecadação_Total           428\n",
              "Ganhadores 15 Números         0\n",
              "Ganhadores 14 Números         0\n",
              "Ganhadores 13 Números         0\n",
              "Ganhadores 12 Números         0\n",
              "Ganhadores 11 Números         0\n",
              "Valor Rateio 15 Números       0\n",
              "Valor Rateio 14 Números       0\n",
              "Valor Rateio 13 Números       0\n",
              "Valor Rateio 12 Números       0\n",
              "Valor Rateio 11 Números       0\n",
              "Acumulado 15 Números          0\n",
              "Estimativa Prêmio           160\n",
              "Valor Acumulado Especial    879\n",
              "Local 15 Números            279\n",
              "dtype: int64"
            ]
          },
          "metadata": {},
          "execution_count": 40
        }
      ]
    },
    {
      "cell_type": "markdown",
      "source": [
        "Comentários (valores ausentes) - Há alguns valores ausentes, mas não daqueles campos que prioritariamente são importantes para instruírem os algoritmos de predição, que são os números sorteados.**negrito**"
      ],
      "metadata": {
        "id": "DBSXe8vErDu6"
      }
    },
    {
      "cell_type": "code",
      "source": [
        "# b) Dados inconsistentes:\n",
        "# Confirmar os nomes das colunas\n",
        "display(df.columns)\n",
        "  # 1ª situação - Houve ganhadores com 15 números mas a cidade não foi registrada.\n",
        "df[(df[\"Ganhadores 15 Números\"] > 0) & (df[\"Local 15 Números\"].isnull())]\n",
        "# Verificar os valores máximos e mínimos listados para os números sorteados."
      ],
      "metadata": {
        "colab": {
          "base_uri": "https://localhost:8080/",
          "height": 465
        },
        "id": "SRSeIWSKrH5E",
        "outputId": "953c3544-1002-4bb8-d46f-da487d2a87f7"
      },
      "execution_count": 41,
      "outputs": [
        {
          "output_type": "display_data",
          "data": {
            "text/plain": [
              "Index(['Concurso', 'Data Sorteio', 'Id', 'Bola 01', 'Bola 02', 'Bola 03',\n",
              "       'Bola 04', 'Bola 05', 'Bola 06', 'Bola 07', 'Bola 08', 'Bola 09',\n",
              "       'Bola 10', 'Bola 11', 'Bola 12', 'Bola 13', 'Bola 14', 'Bola 15',\n",
              "       'Sorteado 01', 'Sorteado 02', 'Sorteado 03', 'Sorteado 04',\n",
              "       'Sorteado 05', 'Sorteado 06', 'Sorteado 07', 'Sorteado 08',\n",
              "       'Sorteado 09', 'Sorteado 10', 'Sorteado 11', 'Sorteado 12',\n",
              "       'Sorteado 13', 'Sorteado 14', 'Sorteado 15', 'Arrecadação_Total',\n",
              "       'Ganhadores 15 Números', 'Ganhadores 14 Números',\n",
              "       'Ganhadores 13 Números', 'Ganhadores 12 Números',\n",
              "       'Ganhadores 11 Números', 'Valor Rateio 15 Números',\n",
              "       'Valor Rateio 14 Números', 'Valor Rateio 13 Números',\n",
              "       'Valor Rateio 12 Números', 'Valor Rateio 11 Números',\n",
              "       'Acumulado 15 Números', 'Estimativa Prêmio', 'Valor Acumulado Especial',\n",
              "       'Local 15 Números'],\n",
              "      dtype='object')"
            ]
          },
          "metadata": {}
        },
        {
          "output_type": "execute_result",
          "data": {
            "text/plain": [
              "Empty DataFrame\n",
              "Columns: [Concurso, Data Sorteio, Id, Bola 01, Bola 02, Bola 03, Bola 04, Bola 05, Bola 06, Bola 07, Bola 08, Bola 09, Bola 10, Bola 11, Bola 12, Bola 13, Bola 14, Bola 15, Sorteado 01, Sorteado 02, Sorteado 03, Sorteado 04, Sorteado 05, Sorteado 06, Sorteado 07, Sorteado 08, Sorteado 09, Sorteado 10, Sorteado 11, Sorteado 12, Sorteado 13, Sorteado 14, Sorteado 15, Arrecadação_Total, Ganhadores 15 Números, Ganhadores 14 Números, Ganhadores 13 Números, Ganhadores 12 Números, Ganhadores 11 Números, Valor Rateio 15 Números, Valor Rateio 14 Números, Valor Rateio 13 Números, Valor Rateio 12 Números, Valor Rateio 11 Números, Acumulado 15 Números, Estimativa Prêmio, Valor Acumulado Especial, Local 15 Números]\n",
              "Index: []\n",
              "\n",
              "[0 rows x 48 columns]"
            ],
            "text/html": [
              "\n",
              "  <div id=\"df-87d01b9a-b43f-4b8c-9516-2ff0356e7cbc\">\n",
              "    <div class=\"colab-df-container\">\n",
              "      <div>\n",
              "<style scoped>\n",
              "    .dataframe tbody tr th:only-of-type {\n",
              "        vertical-align: middle;\n",
              "    }\n",
              "\n",
              "    .dataframe tbody tr th {\n",
              "        vertical-align: top;\n",
              "    }\n",
              "\n",
              "    .dataframe thead th {\n",
              "        text-align: right;\n",
              "    }\n",
              "</style>\n",
              "<table border=\"1\" class=\"dataframe\">\n",
              "  <thead>\n",
              "    <tr style=\"text-align: right;\">\n",
              "      <th></th>\n",
              "      <th>Concurso</th>\n",
              "      <th>Data Sorteio</th>\n",
              "      <th>Id</th>\n",
              "      <th>Bola 01</th>\n",
              "      <th>Bola 02</th>\n",
              "      <th>Bola 03</th>\n",
              "      <th>Bola 04</th>\n",
              "      <th>Bola 05</th>\n",
              "      <th>Bola 06</th>\n",
              "      <th>Bola 07</th>\n",
              "      <th>...</th>\n",
              "      <th>Ganhadores 11 Números</th>\n",
              "      <th>Valor Rateio 15 Números</th>\n",
              "      <th>Valor Rateio 14 Números</th>\n",
              "      <th>Valor Rateio 13 Números</th>\n",
              "      <th>Valor Rateio 12 Números</th>\n",
              "      <th>Valor Rateio 11 Números</th>\n",
              "      <th>Acumulado 15 Números</th>\n",
              "      <th>Estimativa Prêmio</th>\n",
              "      <th>Valor Acumulado Especial</th>\n",
              "      <th>Local 15 Números</th>\n",
              "    </tr>\n",
              "  </thead>\n",
              "  <tbody>\n",
              "  </tbody>\n",
              "</table>\n",
              "<p>0 rows × 48 columns</p>\n",
              "</div>\n",
              "      <button class=\"colab-df-convert\" onclick=\"convertToInteractive('df-87d01b9a-b43f-4b8c-9516-2ff0356e7cbc')\"\n",
              "              title=\"Convert this dataframe to an interactive table.\"\n",
              "              style=\"display:none;\">\n",
              "        \n",
              "  <svg xmlns=\"http://www.w3.org/2000/svg\" height=\"24px\"viewBox=\"0 0 24 24\"\n",
              "       width=\"24px\">\n",
              "    <path d=\"M0 0h24v24H0V0z\" fill=\"none\"/>\n",
              "    <path d=\"M18.56 5.44l.94 2.06.94-2.06 2.06-.94-2.06-.94-.94-2.06-.94 2.06-2.06.94zm-11 1L8.5 8.5l.94-2.06 2.06-.94-2.06-.94L8.5 2.5l-.94 2.06-2.06.94zm10 10l.94 2.06.94-2.06 2.06-.94-2.06-.94-.94-2.06-.94 2.06-2.06.94z\"/><path d=\"M17.41 7.96l-1.37-1.37c-.4-.4-.92-.59-1.43-.59-.52 0-1.04.2-1.43.59L10.3 9.45l-7.72 7.72c-.78.78-.78 2.05 0 2.83L4 21.41c.39.39.9.59 1.41.59.51 0 1.02-.2 1.41-.59l7.78-7.78 2.81-2.81c.8-.78.8-2.07 0-2.86zM5.41 20L4 18.59l7.72-7.72 1.47 1.35L5.41 20z\"/>\n",
              "  </svg>\n",
              "      </button>\n",
              "      \n",
              "  <style>\n",
              "    .colab-df-container {\n",
              "      display:flex;\n",
              "      flex-wrap:wrap;\n",
              "      gap: 12px;\n",
              "    }\n",
              "\n",
              "    .colab-df-convert {\n",
              "      background-color: #E8F0FE;\n",
              "      border: none;\n",
              "      border-radius: 50%;\n",
              "      cursor: pointer;\n",
              "      display: none;\n",
              "      fill: #1967D2;\n",
              "      height: 32px;\n",
              "      padding: 0 0 0 0;\n",
              "      width: 32px;\n",
              "    }\n",
              "\n",
              "    .colab-df-convert:hover {\n",
              "      background-color: #E2EBFA;\n",
              "      box-shadow: 0px 1px 2px rgba(60, 64, 67, 0.3), 0px 1px 3px 1px rgba(60, 64, 67, 0.15);\n",
              "      fill: #174EA6;\n",
              "    }\n",
              "\n",
              "    [theme=dark] .colab-df-convert {\n",
              "      background-color: #3B4455;\n",
              "      fill: #D2E3FC;\n",
              "    }\n",
              "\n",
              "    [theme=dark] .colab-df-convert:hover {\n",
              "      background-color: #434B5C;\n",
              "      box-shadow: 0px 1px 3px 1px rgba(0, 0, 0, 0.15);\n",
              "      filter: drop-shadow(0px 1px 2px rgba(0, 0, 0, 0.3));\n",
              "      fill: #FFFFFF;\n",
              "    }\n",
              "  </style>\n",
              "\n",
              "      <script>\n",
              "        const buttonEl =\n",
              "          document.querySelector('#df-87d01b9a-b43f-4b8c-9516-2ff0356e7cbc button.colab-df-convert');\n",
              "        buttonEl.style.display =\n",
              "          google.colab.kernel.accessAllowed ? 'block' : 'none';\n",
              "\n",
              "        async function convertToInteractive(key) {\n",
              "          const element = document.querySelector('#df-87d01b9a-b43f-4b8c-9516-2ff0356e7cbc');\n",
              "          const dataTable =\n",
              "            await google.colab.kernel.invokeFunction('convertToInteractive',\n",
              "                                                     [key], {});\n",
              "          if (!dataTable) return;\n",
              "\n",
              "          const docLinkHtml = 'Like what you see? Visit the ' +\n",
              "            '<a target=\"_blank\" href=https://colab.research.google.com/notebooks/data_table.ipynb>data table notebook</a>'\n",
              "            + ' to learn more about interactive tables.';\n",
              "          element.innerHTML = '';\n",
              "          dataTable['output_type'] = 'display_data';\n",
              "          await google.colab.output.renderOutput(dataTable, element);\n",
              "          const docLink = document.createElement('div');\n",
              "          docLink.innerHTML = docLinkHtml;\n",
              "          element.appendChild(docLink);\n",
              "        }\n",
              "      </script>\n",
              "    </div>\n",
              "  </div>\n",
              "  "
            ]
          },
          "metadata": {},
          "execution_count": 41
        }
      ]
    },
    {
      "cell_type": "markdown",
      "source": [
        "Comentários (Dados Inconsistentes) - dos campos ausentes apenas o \"Local 15 Números\" não se referia a valores de prêmio, e testamos só poderia estar vazio caso não houvesse ganhadores com 15 pontos. Testamos essa condição e não houve inconsistência. "
      ],
      "metadata": {
        "id": "uSsDkTn7rMMS"
      }
    },
    {
      "cell_type": "code",
      "source": [
        "# c) Valores duplicados\n",
        "df[df.duplicated()]\n",
        "# Remover as linhas com valores duplicados\n",
        "#df = df.drop_duplicates()"
      ],
      "metadata": {
        "colab": {
          "base_uri": "https://localhost:8080/",
          "height": 194
        },
        "id": "zgbdKQ4MrPqB",
        "outputId": "c7ef56ff-39e2-4c41-caf6-96c70c0c08e5"
      },
      "execution_count": 42,
      "outputs": [
        {
          "output_type": "execute_result",
          "data": {
            "text/plain": [
              "Empty DataFrame\n",
              "Columns: [Concurso, Data Sorteio, Id, Bola 01, Bola 02, Bola 03, Bola 04, Bola 05, Bola 06, Bola 07, Bola 08, Bola 09, Bola 10, Bola 11, Bola 12, Bola 13, Bola 14, Bola 15, Sorteado 01, Sorteado 02, Sorteado 03, Sorteado 04, Sorteado 05, Sorteado 06, Sorteado 07, Sorteado 08, Sorteado 09, Sorteado 10, Sorteado 11, Sorteado 12, Sorteado 13, Sorteado 14, Sorteado 15, Arrecadação_Total, Ganhadores 15 Números, Ganhadores 14 Números, Ganhadores 13 Números, Ganhadores 12 Números, Ganhadores 11 Números, Valor Rateio 15 Números, Valor Rateio 14 Números, Valor Rateio 13 Números, Valor Rateio 12 Números, Valor Rateio 11 Números, Acumulado 15 Números, Estimativa Prêmio, Valor Acumulado Especial, Local 15 Números]\n",
              "Index: []\n",
              "\n",
              "[0 rows x 48 columns]"
            ],
            "text/html": [
              "\n",
              "  <div id=\"df-a2677cd8-1674-4ff5-81ae-3162d454d493\">\n",
              "    <div class=\"colab-df-container\">\n",
              "      <div>\n",
              "<style scoped>\n",
              "    .dataframe tbody tr th:only-of-type {\n",
              "        vertical-align: middle;\n",
              "    }\n",
              "\n",
              "    .dataframe tbody tr th {\n",
              "        vertical-align: top;\n",
              "    }\n",
              "\n",
              "    .dataframe thead th {\n",
              "        text-align: right;\n",
              "    }\n",
              "</style>\n",
              "<table border=\"1\" class=\"dataframe\">\n",
              "  <thead>\n",
              "    <tr style=\"text-align: right;\">\n",
              "      <th></th>\n",
              "      <th>Concurso</th>\n",
              "      <th>Data Sorteio</th>\n",
              "      <th>Id</th>\n",
              "      <th>Bola 01</th>\n",
              "      <th>Bola 02</th>\n",
              "      <th>Bola 03</th>\n",
              "      <th>Bola 04</th>\n",
              "      <th>Bola 05</th>\n",
              "      <th>Bola 06</th>\n",
              "      <th>Bola 07</th>\n",
              "      <th>...</th>\n",
              "      <th>Ganhadores 11 Números</th>\n",
              "      <th>Valor Rateio 15 Números</th>\n",
              "      <th>Valor Rateio 14 Números</th>\n",
              "      <th>Valor Rateio 13 Números</th>\n",
              "      <th>Valor Rateio 12 Números</th>\n",
              "      <th>Valor Rateio 11 Números</th>\n",
              "      <th>Acumulado 15 Números</th>\n",
              "      <th>Estimativa Prêmio</th>\n",
              "      <th>Valor Acumulado Especial</th>\n",
              "      <th>Local 15 Números</th>\n",
              "    </tr>\n",
              "  </thead>\n",
              "  <tbody>\n",
              "  </tbody>\n",
              "</table>\n",
              "<p>0 rows × 48 columns</p>\n",
              "</div>\n",
              "      <button class=\"colab-df-convert\" onclick=\"convertToInteractive('df-a2677cd8-1674-4ff5-81ae-3162d454d493')\"\n",
              "              title=\"Convert this dataframe to an interactive table.\"\n",
              "              style=\"display:none;\">\n",
              "        \n",
              "  <svg xmlns=\"http://www.w3.org/2000/svg\" height=\"24px\"viewBox=\"0 0 24 24\"\n",
              "       width=\"24px\">\n",
              "    <path d=\"M0 0h24v24H0V0z\" fill=\"none\"/>\n",
              "    <path d=\"M18.56 5.44l.94 2.06.94-2.06 2.06-.94-2.06-.94-.94-2.06-.94 2.06-2.06.94zm-11 1L8.5 8.5l.94-2.06 2.06-.94-2.06-.94L8.5 2.5l-.94 2.06-2.06.94zm10 10l.94 2.06.94-2.06 2.06-.94-2.06-.94-.94-2.06-.94 2.06-2.06.94z\"/><path d=\"M17.41 7.96l-1.37-1.37c-.4-.4-.92-.59-1.43-.59-.52 0-1.04.2-1.43.59L10.3 9.45l-7.72 7.72c-.78.78-.78 2.05 0 2.83L4 21.41c.39.39.9.59 1.41.59.51 0 1.02-.2 1.41-.59l7.78-7.78 2.81-2.81c.8-.78.8-2.07 0-2.86zM5.41 20L4 18.59l7.72-7.72 1.47 1.35L5.41 20z\"/>\n",
              "  </svg>\n",
              "      </button>\n",
              "      \n",
              "  <style>\n",
              "    .colab-df-container {\n",
              "      display:flex;\n",
              "      flex-wrap:wrap;\n",
              "      gap: 12px;\n",
              "    }\n",
              "\n",
              "    .colab-df-convert {\n",
              "      background-color: #E8F0FE;\n",
              "      border: none;\n",
              "      border-radius: 50%;\n",
              "      cursor: pointer;\n",
              "      display: none;\n",
              "      fill: #1967D2;\n",
              "      height: 32px;\n",
              "      padding: 0 0 0 0;\n",
              "      width: 32px;\n",
              "    }\n",
              "\n",
              "    .colab-df-convert:hover {\n",
              "      background-color: #E2EBFA;\n",
              "      box-shadow: 0px 1px 2px rgba(60, 64, 67, 0.3), 0px 1px 3px 1px rgba(60, 64, 67, 0.15);\n",
              "      fill: #174EA6;\n",
              "    }\n",
              "\n",
              "    [theme=dark] .colab-df-convert {\n",
              "      background-color: #3B4455;\n",
              "      fill: #D2E3FC;\n",
              "    }\n",
              "\n",
              "    [theme=dark] .colab-df-convert:hover {\n",
              "      background-color: #434B5C;\n",
              "      box-shadow: 0px 1px 3px 1px rgba(0, 0, 0, 0.15);\n",
              "      filter: drop-shadow(0px 1px 2px rgba(0, 0, 0, 0.3));\n",
              "      fill: #FFFFFF;\n",
              "    }\n",
              "  </style>\n",
              "\n",
              "      <script>\n",
              "        const buttonEl =\n",
              "          document.querySelector('#df-a2677cd8-1674-4ff5-81ae-3162d454d493 button.colab-df-convert');\n",
              "        buttonEl.style.display =\n",
              "          google.colab.kernel.accessAllowed ? 'block' : 'none';\n",
              "\n",
              "        async function convertToInteractive(key) {\n",
              "          const element = document.querySelector('#df-a2677cd8-1674-4ff5-81ae-3162d454d493');\n",
              "          const dataTable =\n",
              "            await google.colab.kernel.invokeFunction('convertToInteractive',\n",
              "                                                     [key], {});\n",
              "          if (!dataTable) return;\n",
              "\n",
              "          const docLinkHtml = 'Like what you see? Visit the ' +\n",
              "            '<a target=\"_blank\" href=https://colab.research.google.com/notebooks/data_table.ipynb>data table notebook</a>'\n",
              "            + ' to learn more about interactive tables.';\n",
              "          element.innerHTML = '';\n",
              "          dataTable['output_type'] = 'display_data';\n",
              "          await google.colab.output.renderOutput(dataTable, element);\n",
              "          const docLink = document.createElement('div');\n",
              "          docLink.innerHTML = docLinkHtml;\n",
              "          element.appendChild(docLink);\n",
              "        }\n",
              "      </script>\n",
              "    </div>\n",
              "  </div>\n",
              "  "
            ]
          },
          "metadata": {},
          "execution_count": 42
        }
      ]
    },
    {
      "cell_type": "markdown",
      "source": [
        "Comentários (Valores Duplicados) - Não há registros duplicados no dataframe, portanto não precisamos remover quaisquer linhas."
      ],
      "metadata": {
        "id": "fBRqrjsCrUTi"
      }
    },
    {
      "cell_type": "code",
      "source": [
        "# d) Transformação de dados\n",
        "# Começamos verificando os tipos de cada campo do dataframe\n",
        "print(df.dtypes)"
      ],
      "metadata": {
        "colab": {
          "base_uri": "https://localhost:8080/"
        },
        "id": "NIB_hJbqrXVA",
        "outputId": "dc029a40-1f13-4956-d476-fdd53eba3f0c"
      },
      "execution_count": 43,
      "outputs": [
        {
          "output_type": "stream",
          "name": "stdout",
          "text": [
            "Concurso                             int64\n",
            "Data Sorteio                datetime64[ns]\n",
            "Id                                   int64\n",
            "Bola 01                              int64\n",
            "Bola 02                              int64\n",
            "Bola 03                              int64\n",
            "Bola 04                              int64\n",
            "Bola 05                              int64\n",
            "Bola 06                              int64\n",
            "Bola 07                              int64\n",
            "Bola 08                              int64\n",
            "Bola 09                              int64\n",
            "Bola 10                              int64\n",
            "Bola 11                              int64\n",
            "Bola 12                              int64\n",
            "Bola 13                              int64\n",
            "Bola 14                              int64\n",
            "Bola 15                              int64\n",
            "Sorteado 01                          int64\n",
            "Sorteado 02                          int64\n",
            "Sorteado 03                          int64\n",
            "Sorteado 04                          int64\n",
            "Sorteado 05                          int64\n",
            "Sorteado 06                          int64\n",
            "Sorteado 07                          int64\n",
            "Sorteado 08                          int64\n",
            "Sorteado 09                          int64\n",
            "Sorteado 10                          int64\n",
            "Sorteado 11                          int64\n",
            "Sorteado 12                          int64\n",
            "Sorteado 13                          int64\n",
            "Sorteado 14                          int64\n",
            "Sorteado 15                          int64\n",
            "Arrecadação_Total                  float64\n",
            "Ganhadores 15 Números                int64\n",
            "Ganhadores 14 Números                int64\n",
            "Ganhadores 13 Números                int64\n",
            "Ganhadores 12 Números                int64\n",
            "Ganhadores 11 Números                int64\n",
            "Valor Rateio 15 Números            float64\n",
            "Valor Rateio 14 Números            float64\n",
            "Valor Rateio 13 Números            float64\n",
            "Valor Rateio 12 Números              int64\n",
            "Valor Rateio 11 Números            float64\n",
            "Acumulado 15 Números               float64\n",
            "Estimativa Prêmio                  float64\n",
            "Valor Acumulado Especial           float64\n",
            "Local 15 Números                    object\n",
            "dtype: object\n"
          ]
        }
      ]
    },
    {
      "cell_type": "markdown",
      "source": [
        "Comentários (Transformação de Dados) - Não há a necessidade de transformar dados do dataframe.\n",
        "Não é necessário transformar o campo Data Sorteio para um tipo numérico para explorá-lo no EDA porque o tipo datetime64[ns] já é adequado para trabalhar com datas no pandas e pode ser utilizado em diversas análises e visualizações. O campo object também contém strings, que também podem ser explorados naturalmente. Os outros campos já são numéricos int64 ou float64."
      ],
      "metadata": {
        "id": "zC-tj8qu9k41"
      }
    },
    {
      "cell_type": "code",
      "source": [
        "# Redução de Dados "
      ],
      "metadata": {
        "id": "qiMoKkHJoAA7"
      },
      "execution_count": 44,
      "outputs": []
    },
    {
      "cell_type": "markdown",
      "source": [
        "Comentários (redução dos dados) - é possível reduzir o dataframe com a eliminação de alguns campos que não deverão ser utilizados nos algoritmos, entretanto optamos por não realizar essa etapa em função do pequeno tamanho do dataframe, e que não traria grandes vantagens em custo computacional para esse exercício."
      ],
      "metadata": {
        "id": "CgUw7jh2JxYn"
      }
    },
    {
      "cell_type": "code",
      "source": [
        "# Descrição dos dados\n",
        "# Vamos ver um resumo estatístico do dataframe\n",
        "df.describe()"
      ],
      "metadata": {
        "colab": {
          "base_uri": "https://localhost:8080/",
          "height": 428
        },
        "id": "nSnIYenzoDyr",
        "outputId": "df3959a7-175d-4cb3-d1a2-7e6db927750d"
      },
      "execution_count": 45,
      "outputs": [
        {
          "output_type": "execute_result",
          "data": {
            "text/plain": [
              "          Concurso            Id      Bola 01      Bola 02      Bola 03  \\\n",
              "count  2780.000000  2.780000e+03  2780.000000  2780.000000  2780.000000   \n",
              "mean   1390.500000  2.041082e+07     1.623022     3.259353     4.880935   \n",
              "std     802.661199  9.069262e+06     0.924444     1.299377     1.535661   \n",
              "min       1.000000  2.411510e+05     1.000000     2.000000     3.000000   \n",
              "25%     695.750000  1.301294e+07     1.000000     2.000000     4.000000   \n",
              "50%    1390.500000  2.171756e+07     1.000000     3.000000     5.000000   \n",
              "75%    2085.250000  2.866668e+07     2.000000     4.000000     6.000000   \n",
              "max    2780.000000  3.353423e+07     7.000000     9.000000    12.000000   \n",
              "\n",
              "           Bola 04      Bola 05      Bola 06      Bola 07      Bola 08  ...  \\\n",
              "count  2780.000000  2780.000000  2780.000000  2780.000000  2780.000000  ...   \n",
              "mean      6.521942     8.161151     9.792806    11.385971    13.015468  ...   \n",
              "std       1.708483     1.809754     1.855005     1.885805     1.906442  ...   \n",
              "min       4.000000     5.000000     6.000000     7.000000     8.000000  ...   \n",
              "25%       5.000000     7.000000     8.000000    10.000000    12.000000  ...   \n",
              "50%       6.000000     8.000000    10.000000    11.000000    13.000000  ...   \n",
              "75%       8.000000     9.000000    11.000000    13.000000    14.000000  ...   \n",
              "max      13.000000    14.000000    16.000000    17.000000    18.000000  ...   \n",
              "\n",
              "       Ganhadores 12 Números  Ganhadores 11 Números  Valor Rateio 15 Números  \\\n",
              "count           2.780000e+03           2.780000e+03             2.780000e+03   \n",
              "mean            2.101322e+05           1.100166e+06             8.085214e+05   \n",
              "std             1.681718e+05           8.446133e+05             8.232962e+05   \n",
              "min             4.880700e+04           2.575930e+05             0.000000e+00   \n",
              "25%             1.511990e+05           8.224250e+05             2.764940e+05   \n",
              "50%             2.017305e+05           1.081627e+06             5.805589e+05   \n",
              "75%             2.434078e+05           1.271775e+06             1.143640e+06   \n",
              "max             4.292807e+06           2.209956e+07             8.252873e+06   \n",
              "\n",
              "       Valor Rateio 14 Números  Valor Rateio 13 Números  \\\n",
              "count              2780.000000              2780.000000   \n",
              "mean               1358.513874                18.064748   \n",
              "std                 530.164140                 5.852199   \n",
              "min                  18.510000                10.000000   \n",
              "25%                1010.715000                12.500000   \n",
              "50%                1382.170000                20.000000   \n",
              "75%                1675.122500                25.000000   \n",
              "max                4254.690000                25.000000   \n",
              "\n",
              "       Valor Rateio 12 Números  Valor Rateio 11 Números  Acumulado 15 Números  \\\n",
              "count              2780.000000               2780.00000          2.780000e+03   \n",
              "mean                  7.225899                  3.61295          3.755807e+05   \n",
              "std                   2.340880                  1.17044          3.638404e+06   \n",
              "min                   4.000000                  2.00000          0.000000e+00   \n",
              "25%                   5.000000                  2.50000          0.000000e+00   \n",
              "50%                   8.000000                  4.00000          0.000000e+00   \n",
              "75%                  10.000000                  5.00000          0.000000e+00   \n",
              "max                  10.000000                  5.00000          1.136874e+08   \n",
              "\n",
              "       Estimativa Prêmio  Valor Acumulado Especial  \n",
              "count       2.620000e+03              1.901000e+03  \n",
              "mean        2.291031e+06              3.995317e+07  \n",
              "std         6.706804e+06              2.542015e+07  \n",
              "min         0.000000e+00              0.000000e+00  \n",
              "25%         1.500000e+06              1.945640e+07  \n",
              "50%         1.500000e+06              3.804832e+07  \n",
              "75%         1.700000e+06              5.573001e+07  \n",
              "max         1.800000e+08              1.136874e+08  \n",
              "\n",
              "[8 rows x 46 columns]"
            ],
            "text/html": [
              "\n",
              "  <div id=\"df-4e41a9ae-e6ac-423f-9394-51ca8eb466a6\">\n",
              "    <div class=\"colab-df-container\">\n",
              "      <div>\n",
              "<style scoped>\n",
              "    .dataframe tbody tr th:only-of-type {\n",
              "        vertical-align: middle;\n",
              "    }\n",
              "\n",
              "    .dataframe tbody tr th {\n",
              "        vertical-align: top;\n",
              "    }\n",
              "\n",
              "    .dataframe thead th {\n",
              "        text-align: right;\n",
              "    }\n",
              "</style>\n",
              "<table border=\"1\" class=\"dataframe\">\n",
              "  <thead>\n",
              "    <tr style=\"text-align: right;\">\n",
              "      <th></th>\n",
              "      <th>Concurso</th>\n",
              "      <th>Id</th>\n",
              "      <th>Bola 01</th>\n",
              "      <th>Bola 02</th>\n",
              "      <th>Bola 03</th>\n",
              "      <th>Bola 04</th>\n",
              "      <th>Bola 05</th>\n",
              "      <th>Bola 06</th>\n",
              "      <th>Bola 07</th>\n",
              "      <th>Bola 08</th>\n",
              "      <th>...</th>\n",
              "      <th>Ganhadores 12 Números</th>\n",
              "      <th>Ganhadores 11 Números</th>\n",
              "      <th>Valor Rateio 15 Números</th>\n",
              "      <th>Valor Rateio 14 Números</th>\n",
              "      <th>Valor Rateio 13 Números</th>\n",
              "      <th>Valor Rateio 12 Números</th>\n",
              "      <th>Valor Rateio 11 Números</th>\n",
              "      <th>Acumulado 15 Números</th>\n",
              "      <th>Estimativa Prêmio</th>\n",
              "      <th>Valor Acumulado Especial</th>\n",
              "    </tr>\n",
              "  </thead>\n",
              "  <tbody>\n",
              "    <tr>\n",
              "      <th>count</th>\n",
              "      <td>2780.000000</td>\n",
              "      <td>2.780000e+03</td>\n",
              "      <td>2780.000000</td>\n",
              "      <td>2780.000000</td>\n",
              "      <td>2780.000000</td>\n",
              "      <td>2780.000000</td>\n",
              "      <td>2780.000000</td>\n",
              "      <td>2780.000000</td>\n",
              "      <td>2780.000000</td>\n",
              "      <td>2780.000000</td>\n",
              "      <td>...</td>\n",
              "      <td>2.780000e+03</td>\n",
              "      <td>2.780000e+03</td>\n",
              "      <td>2.780000e+03</td>\n",
              "      <td>2780.000000</td>\n",
              "      <td>2780.000000</td>\n",
              "      <td>2780.000000</td>\n",
              "      <td>2780.00000</td>\n",
              "      <td>2.780000e+03</td>\n",
              "      <td>2.620000e+03</td>\n",
              "      <td>1.901000e+03</td>\n",
              "    </tr>\n",
              "    <tr>\n",
              "      <th>mean</th>\n",
              "      <td>1390.500000</td>\n",
              "      <td>2.041082e+07</td>\n",
              "      <td>1.623022</td>\n",
              "      <td>3.259353</td>\n",
              "      <td>4.880935</td>\n",
              "      <td>6.521942</td>\n",
              "      <td>8.161151</td>\n",
              "      <td>9.792806</td>\n",
              "      <td>11.385971</td>\n",
              "      <td>13.015468</td>\n",
              "      <td>...</td>\n",
              "      <td>2.101322e+05</td>\n",
              "      <td>1.100166e+06</td>\n",
              "      <td>8.085214e+05</td>\n",
              "      <td>1358.513874</td>\n",
              "      <td>18.064748</td>\n",
              "      <td>7.225899</td>\n",
              "      <td>3.61295</td>\n",
              "      <td>3.755807e+05</td>\n",
              "      <td>2.291031e+06</td>\n",
              "      <td>3.995317e+07</td>\n",
              "    </tr>\n",
              "    <tr>\n",
              "      <th>std</th>\n",
              "      <td>802.661199</td>\n",
              "      <td>9.069262e+06</td>\n",
              "      <td>0.924444</td>\n",
              "      <td>1.299377</td>\n",
              "      <td>1.535661</td>\n",
              "      <td>1.708483</td>\n",
              "      <td>1.809754</td>\n",
              "      <td>1.855005</td>\n",
              "      <td>1.885805</td>\n",
              "      <td>1.906442</td>\n",
              "      <td>...</td>\n",
              "      <td>1.681718e+05</td>\n",
              "      <td>8.446133e+05</td>\n",
              "      <td>8.232962e+05</td>\n",
              "      <td>530.164140</td>\n",
              "      <td>5.852199</td>\n",
              "      <td>2.340880</td>\n",
              "      <td>1.17044</td>\n",
              "      <td>3.638404e+06</td>\n",
              "      <td>6.706804e+06</td>\n",
              "      <td>2.542015e+07</td>\n",
              "    </tr>\n",
              "    <tr>\n",
              "      <th>min</th>\n",
              "      <td>1.000000</td>\n",
              "      <td>2.411510e+05</td>\n",
              "      <td>1.000000</td>\n",
              "      <td>2.000000</td>\n",
              "      <td>3.000000</td>\n",
              "      <td>4.000000</td>\n",
              "      <td>5.000000</td>\n",
              "      <td>6.000000</td>\n",
              "      <td>7.000000</td>\n",
              "      <td>8.000000</td>\n",
              "      <td>...</td>\n",
              "      <td>4.880700e+04</td>\n",
              "      <td>2.575930e+05</td>\n",
              "      <td>0.000000e+00</td>\n",
              "      <td>18.510000</td>\n",
              "      <td>10.000000</td>\n",
              "      <td>4.000000</td>\n",
              "      <td>2.00000</td>\n",
              "      <td>0.000000e+00</td>\n",
              "      <td>0.000000e+00</td>\n",
              "      <td>0.000000e+00</td>\n",
              "    </tr>\n",
              "    <tr>\n",
              "      <th>25%</th>\n",
              "      <td>695.750000</td>\n",
              "      <td>1.301294e+07</td>\n",
              "      <td>1.000000</td>\n",
              "      <td>2.000000</td>\n",
              "      <td>4.000000</td>\n",
              "      <td>5.000000</td>\n",
              "      <td>7.000000</td>\n",
              "      <td>8.000000</td>\n",
              "      <td>10.000000</td>\n",
              "      <td>12.000000</td>\n",
              "      <td>...</td>\n",
              "      <td>1.511990e+05</td>\n",
              "      <td>8.224250e+05</td>\n",
              "      <td>2.764940e+05</td>\n",
              "      <td>1010.715000</td>\n",
              "      <td>12.500000</td>\n",
              "      <td>5.000000</td>\n",
              "      <td>2.50000</td>\n",
              "      <td>0.000000e+00</td>\n",
              "      <td>1.500000e+06</td>\n",
              "      <td>1.945640e+07</td>\n",
              "    </tr>\n",
              "    <tr>\n",
              "      <th>50%</th>\n",
              "      <td>1390.500000</td>\n",
              "      <td>2.171756e+07</td>\n",
              "      <td>1.000000</td>\n",
              "      <td>3.000000</td>\n",
              "      <td>5.000000</td>\n",
              "      <td>6.000000</td>\n",
              "      <td>8.000000</td>\n",
              "      <td>10.000000</td>\n",
              "      <td>11.000000</td>\n",
              "      <td>13.000000</td>\n",
              "      <td>...</td>\n",
              "      <td>2.017305e+05</td>\n",
              "      <td>1.081627e+06</td>\n",
              "      <td>5.805589e+05</td>\n",
              "      <td>1382.170000</td>\n",
              "      <td>20.000000</td>\n",
              "      <td>8.000000</td>\n",
              "      <td>4.00000</td>\n",
              "      <td>0.000000e+00</td>\n",
              "      <td>1.500000e+06</td>\n",
              "      <td>3.804832e+07</td>\n",
              "    </tr>\n",
              "    <tr>\n",
              "      <th>75%</th>\n",
              "      <td>2085.250000</td>\n",
              "      <td>2.866668e+07</td>\n",
              "      <td>2.000000</td>\n",
              "      <td>4.000000</td>\n",
              "      <td>6.000000</td>\n",
              "      <td>8.000000</td>\n",
              "      <td>9.000000</td>\n",
              "      <td>11.000000</td>\n",
              "      <td>13.000000</td>\n",
              "      <td>14.000000</td>\n",
              "      <td>...</td>\n",
              "      <td>2.434078e+05</td>\n",
              "      <td>1.271775e+06</td>\n",
              "      <td>1.143640e+06</td>\n",
              "      <td>1675.122500</td>\n",
              "      <td>25.000000</td>\n",
              "      <td>10.000000</td>\n",
              "      <td>5.00000</td>\n",
              "      <td>0.000000e+00</td>\n",
              "      <td>1.700000e+06</td>\n",
              "      <td>5.573001e+07</td>\n",
              "    </tr>\n",
              "    <tr>\n",
              "      <th>max</th>\n",
              "      <td>2780.000000</td>\n",
              "      <td>3.353423e+07</td>\n",
              "      <td>7.000000</td>\n",
              "      <td>9.000000</td>\n",
              "      <td>12.000000</td>\n",
              "      <td>13.000000</td>\n",
              "      <td>14.000000</td>\n",
              "      <td>16.000000</td>\n",
              "      <td>17.000000</td>\n",
              "      <td>18.000000</td>\n",
              "      <td>...</td>\n",
              "      <td>4.292807e+06</td>\n",
              "      <td>2.209956e+07</td>\n",
              "      <td>8.252873e+06</td>\n",
              "      <td>4254.690000</td>\n",
              "      <td>25.000000</td>\n",
              "      <td>10.000000</td>\n",
              "      <td>5.00000</td>\n",
              "      <td>1.136874e+08</td>\n",
              "      <td>1.800000e+08</td>\n",
              "      <td>1.136874e+08</td>\n",
              "    </tr>\n",
              "  </tbody>\n",
              "</table>\n",
              "<p>8 rows × 46 columns</p>\n",
              "</div>\n",
              "      <button class=\"colab-df-convert\" onclick=\"convertToInteractive('df-4e41a9ae-e6ac-423f-9394-51ca8eb466a6')\"\n",
              "              title=\"Convert this dataframe to an interactive table.\"\n",
              "              style=\"display:none;\">\n",
              "        \n",
              "  <svg xmlns=\"http://www.w3.org/2000/svg\" height=\"24px\"viewBox=\"0 0 24 24\"\n",
              "       width=\"24px\">\n",
              "    <path d=\"M0 0h24v24H0V0z\" fill=\"none\"/>\n",
              "    <path d=\"M18.56 5.44l.94 2.06.94-2.06 2.06-.94-2.06-.94-.94-2.06-.94 2.06-2.06.94zm-11 1L8.5 8.5l.94-2.06 2.06-.94-2.06-.94L8.5 2.5l-.94 2.06-2.06.94zm10 10l.94 2.06.94-2.06 2.06-.94-2.06-.94-.94-2.06-.94 2.06-2.06.94z\"/><path d=\"M17.41 7.96l-1.37-1.37c-.4-.4-.92-.59-1.43-.59-.52 0-1.04.2-1.43.59L10.3 9.45l-7.72 7.72c-.78.78-.78 2.05 0 2.83L4 21.41c.39.39.9.59 1.41.59.51 0 1.02-.2 1.41-.59l7.78-7.78 2.81-2.81c.8-.78.8-2.07 0-2.86zM5.41 20L4 18.59l7.72-7.72 1.47 1.35L5.41 20z\"/>\n",
              "  </svg>\n",
              "      </button>\n",
              "      \n",
              "  <style>\n",
              "    .colab-df-container {\n",
              "      display:flex;\n",
              "      flex-wrap:wrap;\n",
              "      gap: 12px;\n",
              "    }\n",
              "\n",
              "    .colab-df-convert {\n",
              "      background-color: #E8F0FE;\n",
              "      border: none;\n",
              "      border-radius: 50%;\n",
              "      cursor: pointer;\n",
              "      display: none;\n",
              "      fill: #1967D2;\n",
              "      height: 32px;\n",
              "      padding: 0 0 0 0;\n",
              "      width: 32px;\n",
              "    }\n",
              "\n",
              "    .colab-df-convert:hover {\n",
              "      background-color: #E2EBFA;\n",
              "      box-shadow: 0px 1px 2px rgba(60, 64, 67, 0.3), 0px 1px 3px 1px rgba(60, 64, 67, 0.15);\n",
              "      fill: #174EA6;\n",
              "    }\n",
              "\n",
              "    [theme=dark] .colab-df-convert {\n",
              "      background-color: #3B4455;\n",
              "      fill: #D2E3FC;\n",
              "    }\n",
              "\n",
              "    [theme=dark] .colab-df-convert:hover {\n",
              "      background-color: #434B5C;\n",
              "      box-shadow: 0px 1px 3px 1px rgba(0, 0, 0, 0.15);\n",
              "      filter: drop-shadow(0px 1px 2px rgba(0, 0, 0, 0.3));\n",
              "      fill: #FFFFFF;\n",
              "    }\n",
              "  </style>\n",
              "\n",
              "      <script>\n",
              "        const buttonEl =\n",
              "          document.querySelector('#df-4e41a9ae-e6ac-423f-9394-51ca8eb466a6 button.colab-df-convert');\n",
              "        buttonEl.style.display =\n",
              "          google.colab.kernel.accessAllowed ? 'block' : 'none';\n",
              "\n",
              "        async function convertToInteractive(key) {\n",
              "          const element = document.querySelector('#df-4e41a9ae-e6ac-423f-9394-51ca8eb466a6');\n",
              "          const dataTable =\n",
              "            await google.colab.kernel.invokeFunction('convertToInteractive',\n",
              "                                                     [key], {});\n",
              "          if (!dataTable) return;\n",
              "\n",
              "          const docLinkHtml = 'Like what you see? Visit the ' +\n",
              "            '<a target=\"_blank\" href=https://colab.research.google.com/notebooks/data_table.ipynb>data table notebook</a>'\n",
              "            + ' to learn more about interactive tables.';\n",
              "          element.innerHTML = '';\n",
              "          dataTable['output_type'] = 'display_data';\n",
              "          await google.colab.output.renderOutput(dataTable, element);\n",
              "          const docLink = document.createElement('div');\n",
              "          docLink.innerHTML = docLinkHtml;\n",
              "          element.appendChild(docLink);\n",
              "        }\n",
              "      </script>\n",
              "    </div>\n",
              "  </div>\n",
              "  "
            ]
          },
          "metadata": {},
          "execution_count": 45
        }
      ]
    },
    {
      "cell_type": "markdown",
      "source": [
        "Comentários (descrição dos dados) - Ao final da limpeza dos dados do dataframe já temos uma estrutura de arquivo razoável em formato e conteúdo, e já com alguma estatística básica realizada. "
      ],
      "metadata": {
        "id": "aCcElqIIKOEP"
      }
    },
    {
      "cell_type": "markdown",
      "source": [
        "## 3. Data Preparation\n",
        "\n",
        "Realizamos a seguir uma análise exploratória dos dados para entender melhor a distribuição dos valores em cada coluna, identificar possíveis outliers e padrões interessantes que possam ser úteis na etapa de criação de novos atributos para a tarefa de previsão, baseando-as em algumas hipóteses. São análises estatísticas simples.\n",
        "\n",
        "### EDA - Exploratory Data Analisys\n",
        "\n",
        "Nessa etapa verificamos os dados com algumas análises, tais como, análise estatística descritiva, bivariada e multivariada, validação de algumas hipóteses levantadas na fase de \"business understanding\", e tentamos obter alguns \"insights\" sobre os dados para auxiliar o entendimento do negócio.\n",
        "\n",
        "Nessa fase, os dados trabalhados na fase \"data understanding\" são organizados e preparados adequadamente para que possam ser utilizados com base para a(s) etapas subsequentes em que serão submetidos aos algoritmos de predição. \n",
        "\n",
        "Procuramos aprimorar a qualidade dos dados, consolidando esses dados, limpos, transformados e reduzidos."
      ],
      "metadata": {
        "id": "Fa0drhzawSLx"
      }
    },
    {
      "cell_type": "markdown",
      "source": [
        "#### EDA - Engenharia de Atributos\n",
        "\n",
        "Utilizamos a seguir algumas técnicas de engenharia de atributos para criar novas variáveis a partir dos dados existentes, como, por exemplo, calcular a soma dos números sorteados, contar a quantidade de números pares, identificar números repetidos em relação ao sorteio anterior e outras características relevantes."
      ],
      "metadata": {
        "id": "s_YLj931kQV_"
      }
    },
    {
      "cell_type": "markdown",
      "source": [
        "Em pesquisas de \"soluções mágicas\" na internet pudemos verificar uma série de hipóteses sem comprovação efetiva:\n",
        "•\tnovos x repetidos\n",
        "•\tpar x ímpar\n",
        "•\tprimo x não-primos\n",
        "•\texterno x interno\n",
        "•\thorizontal\n",
        "•\tvertical\n",
        "•\tdiagonal esquerda\n",
        "•\tdiagonal direita\n",
        "•\tesquerda x direita\n",
        "•\tsuperior x inferior\n",
        "•\tcanto superior esquerdo x canto inferior direito\n",
        "•\tcanto superior direito x canto inferior esquerdo\n",
        "•\tcruzeta\n",
        "•\tlosango\n",
        "•\tquinteto\n",
        "•\ttriangulo\n",
        "•\ttrio\n",
        "•\tdezena\n",
        "•\tunidade\n",
        "•\tquantidades de vezes que cada bola saiu por coluna\n",
        "•\tfrequência relativa a qualquer concurso\n",
        "•\tdiferença entre bolas por concurso\n",
        "\n",
        "Provavelmente, pela teoria, é improvável que seja produtivo experimentar essas combinações todas com os algoritmos de machine learning. "
      ],
      "metadata": {
        "id": "RlTLuVscmAvR"
      }
    },
    {
      "cell_type": "markdown",
      "source": [
        "Depois de limpar os dados, podemos realizar a análise exploratória de dados para entender melhor o conjunto de dados. Isso pode incluir a visualização de histogramas, boxplots e outros gráficos relevantes.\n",
        "\n",
        "\n",
        "\n",
        "\n",
        "\n",
        "\n"
      ],
      "metadata": {
        "id": "nBh8MF8LOsOp"
      }
    },
    {
      "cell_type": "code",
      "source": [
        "# Visualizando a correlação entre os números sorteados\n",
        "sns.heatmap(df.iloc[:, 3:18].corr(), annot=True, cmap='coolwarm')\n",
        "plt.show()"
      ],
      "metadata": {
        "colab": {
          "base_uri": "https://localhost:8080/",
          "height": 474
        },
        "id": "ivA4WxP0O-T3",
        "outputId": "515b8a98-611e-4834-f6b8-719812bdd7fb"
      },
      "execution_count": 47,
      "outputs": [
        {
          "output_type": "display_data",
          "data": {
            "text/plain": [
              "<Figure size 640x480 with 2 Axes>"
            ],
            "image/png": "[encoded data removed]"
          },
          "metadata": {}
        }
      ]
    },
    {
      "cell_type": "markdown",
      "source": [
        "Nota: O mapa de calor mostra uma matriz de correlação entre os números sorteados. Se houver uma correlação forte entre dois números, isso pode indicar que eles tendem a ser sorteados juntos com mais frequência, o que pode ser útil para escolher os números a serem jogados. Todavia, a correlação não é uma garantia de que os números serão sorteados juntos em um jogo específico, já que os sorteios são aleatórios."
      ],
      "metadata": {
        "id": "sNDNj7JmfIP9"
      }
    },
    {
      "cell_type": "code",
      "source": [
        "# vamos verificar numero e nome de cada coluna do dataframe df\n",
        "print(list(enumerate(df.columns)))"
      ],
      "metadata": {
        "colab": {
          "base_uri": "https://localhost:8080/"
        },
        "id": "SFXpq-ZiePFO",
        "outputId": "da54f719-bd2e-44de-ff24-dddfd5d20aaf"
      },
      "execution_count": 48,
      "outputs": [
        {
          "output_type": "stream",
          "name": "stdout",
          "text": [
            "[(0, 'Concurso'), (1, 'Data Sorteio'), (2, 'Id'), (3, 'Bola 01'), (4, 'Bola 02'), (5, 'Bola 03'), (6, 'Bola 04'), (7, 'Bola 05'), (8, 'Bola 06'), (9, 'Bola 07'), (10, 'Bola 08'), (11, 'Bola 09'), (12, 'Bola 10'), (13, 'Bola 11'), (14, 'Bola 12'), (15, 'Bola 13'), (16, 'Bola 14'), (17, 'Bola 15'), (18, 'Sorteado 01'), (19, 'Sorteado 02'), (20, 'Sorteado 03'), (21, 'Sorteado 04'), (22, 'Sorteado 05'), (23, 'Sorteado 06'), (24, 'Sorteado 07'), (25, 'Sorteado 08'), (26, 'Sorteado 09'), (27, 'Sorteado 10'), (28, 'Sorteado 11'), (29, 'Sorteado 12'), (30, 'Sorteado 13'), (31, 'Sorteado 14'), (32, 'Sorteado 15'), (33, 'Arrecadação_Total'), (34, 'Ganhadores 15 Números'), (35, 'Ganhadores 14 Números'), (36, 'Ganhadores 13 Números'), (37, 'Ganhadores 12 Números'), (38, 'Ganhadores 11 Números'), (39, 'Valor Rateio 15 Números'), (40, 'Valor Rateio 14 Números'), (41, 'Valor Rateio 13 Números'), (42, 'Valor Rateio 12 Números'), (43, 'Valor Rateio 11 Números'), (44, 'Acumulado 15 Números'), (45, 'Estimativa Prêmio'), (46, 'Valor Acumulado Especial'), (47, 'Local 15 Números')]\n"
          ]
        }
      ]
    },
    {
      "cell_type": "code",
      "source": [
        "# Selecionar as colunas com os números sorteados\n",
        "numeros = df.iloc[:, 3:18].values.flatten()\n",
        "\n",
        "# Criar o histograma com 25 barras (um para cada número de 1 a 25)\n",
        "plt.hist(numeros, bins=range(1, 27), align='left', edgecolor='black')\n",
        "\n",
        "# Configurar o título e os rótulos dos eixos\n",
        "plt.title('Distribuição dos números sorteados na Lotofácil')\n",
        "plt.xlabel('Número')\n",
        "plt.ylabel('Frequência')\n",
        "\n",
        "# Exibir o gráfico\n",
        "plt.show()"
      ],
      "metadata": {
        "colab": {
          "base_uri": "https://localhost:8080/",
          "height": 472
        },
        "id": "LUvRij0hPAFH",
        "outputId": "f1e67329-911f-4719-c6eb-eb19bb8abad4"
      },
      "execution_count": 49,
      "outputs": [
        {
          "output_type": "display_data",
          "data": {
            "text/plain": [
              "<Figure size 640x480 with 1 Axes>"
            ],
            "image/png": "[encoded data removed]"
          },
          "metadata": {}
        }
      ]
    },
    {
      "cell_type": "markdown",
      "source": [
        "Nota: Vemos uma distribuição dos números sorteados \"flat\", ou seja, a frequência de ocorrência de cada número é aproximadamente igual. \n",
        "Com esse tipo de distribuição uniforme uniforme é o tipo de distribuição que representa muito bem fenômenos aleatórios, sem preferências ou tendências. É praticamnte um modelo de números aleatórios. "
      ],
      "metadata": {
        "id": "p33wqcXOhyau"
      }
    },
    {
      "cell_type": "markdown",
      "source": [
        "Podemos também calcular a entropia da distribuição dos números sorteados na lotofacil.\n",
        "Veja bem, não é a entropia cruzada que costuma ser usada como uma métrica para avaliar comparativamente a entropia da distribuição real com a entropia dos clusters encontrados num algoritmo de agrupamento."
      ],
      "metadata": {
        "id": "1-Kl3smuoXTi"
      }
    },
    {
      "cell_type": "markdown",
      "source": [
        "Neste trecho de código, a partir do dataframe com os registros dos números sorteados em cada sorteio, calculamos a frequência de ocorrência de cada número e armazenamos em um dicionário chamado frequencias. As probabilidades de ocorrência de cada número são calculadas a partir das frequências e armazenadas em um dicionário chamado probabilidades. A entropia é calculada usando a fórmula de entropia e armazenada na variável entropia. O valor da entropia e uma visualização gráfica da distribuição a que ela se refere podem dar a exata dimensão do quanto é complicado encontrar alguma tendência plausível para basear uma aposta.\n",
        "\n",
        "Note que a probabilidade de cada número é calculada dividindo a sua frequência total pelo número total de sorteios multiplicado pelo número de números sorteados por sorteio (15 no caso da Lotofácil). Esta é uma forma correta de calcular a probabilidade para uma distribuição com uma quantidade finita e discreta de resultados possíveis.\n",
        "\n",
        "A entropia máxima de uma distribuição é dada pela fórmula:\n",
        "H_max = -sum(p_i * log2(p_i))\n",
        "\n",
        "onde p_i é a probabilidade de ocorrência de cada bola na distribuição e o somatório é realizado para todas elas na distribuição.\n",
        "\n",
        "Essa equação é usada para determinar o máximo de incerteza ou desordem que uma distribuição pode ter, ou seja, representa a situação em que todos os eventos da distribuição têm a mesma probabilidade de ocorrência.A seguir, vamos calcular qual seria o maior valor possível de entropia para essa distribuição:\n"
      ],
      "metadata": {
        "id": "kSz2J-0VtPt1"
      }
    },
    {
      "cell_type": "code",
      "source": [
        "import math\n",
        "\n",
        "n = 25  # total de números possíveis\n",
        "k = 15  # quantidade de números sorteados\n",
        "p = k / n  # probabilidade de um número ser sorteado\n",
        "\n",
        "max_entropy = -k * p * math.log2(p) - (n - k) * p * math.log2(p / (1 - p))\n",
        "print(f\"A entropia máxima possível é de {max_entropy:.2f} bits.\")"
      ],
      "metadata": {
        "colab": {
          "base_uri": "https://localhost:8080/"
        },
        "id": "dt_dzZTRuXwS",
        "outputId": "7f2ea2af-786c-4b18-de2d-2b9874d7c575"
      },
      "execution_count": 50,
      "outputs": [
        {
          "output_type": "stream",
          "name": "stdout",
          "text": [
            "A entropia máxima possível é de 3.12 bits.\n"
          ]
        }
      ]
    },
    {
      "cell_type": "code",
      "source": [
        "import pandas as pd\n",
        "import math\n",
        "\n",
        "# Cálculo da frequência de cada número\n",
        "num_freq = {}\n",
        "for i in range(3, 18):\n",
        "    num_freq[i] = df.iloc[:, i].sum()\n",
        "\n",
        "# Cálculo da entropia\n",
        "total_freq = sum(num_freq.values())\n",
        "entropia = 0\n",
        "for freq in num_freq.values():\n",
        "    if freq != 0:\n",
        "        entropia -= (freq / total_freq) * math.log2(freq / total_freq)\n",
        "\n",
        "# Imprime a entropia\n",
        "print('Entropia real do dataframe:', entropia)\n"
      ],
      "metadata": {
        "colab": {
          "base_uri": "https://localhost:8080/"
        },
        "id": "-4bv-7vl6i2k",
        "outputId": "92e714de-9938-472b-82c4-e59a3aeaa7a6"
      },
      "execution_count": 51,
      "outputs": [
        {
          "output_type": "stream",
          "name": "stdout",
          "text": [
            "Entropia real do dataframe: 3.670728845615659\n"
          ]
        }
      ]
    },
    {
      "cell_type": "markdown",
      "source": [
        "Nesse ponto parece que há algo errado, mas não. A entropia máxima é a entropia associada a uma distribuição uniforme, ou seja, quando todos os eventos têm a mesma probabilidade. Já a entropia de uma distribuição real pode ser menor ou maior que a entropia máxima, dependendo da variabilidade dos eventos.\n",
        "\n",
        "Se a distribuição real tem uma grande variabilidade, ou seja, alguns eventos têm uma probabilidade muito maior que outros, então a entropia será menor do que a entropia máxima. Por outro lado, se a distribuição tem uma probabilidade mais uniforme entre os eventos, então a entropia será maior do que a entropia máxima.\n",
        "\n",
        "No caso da Lotofacil, se os números sorteados têm uma distribuição mais uniforme, a entropia será maior do que a entropia máxima."
      ],
      "metadata": {
        "id": "qxeVDSfK7CQ6"
      }
    },
    {
      "cell_type": "markdown",
      "source": [
        "Nota:  Todas as verificações vão apontando que será um insucesso predizer os números a serem sorteados na Lotofácil."
      ],
      "metadata": {
        "id": "x234DPAM7wWY"
      }
    },
    {
      "cell_type": "markdown",
      "source": [
        "Não vamos esquecer dos conjuntos de treinamento e de teste dos algoritmos"
      ],
      "metadata": {
        "id": "A9yzbgQnUAuN"
      }
    },
    {
      "cell_type": "code",
      "source": [
        "import pandas as pd\n",
        "from sklearn.model_selection import train_test_split\n",
        "\n",
        "# Separar dados de entrada e saída\n",
        "X = df.iloc[:,3:17]\n",
        "y = df.iloc[:,18:32]\n",
        "\n",
        "# Dividir em dados de treinamento e teste\n",
        "X_train, X_test, y_train, y_test = train_test_split(X, y, test_size=0.2, random_state=42)\n"
      ],
      "metadata": {
        "id": "d758Icj_UIGz"
      },
      "execution_count": 52,
      "outputs": []
    },
    {
      "cell_type": "markdown",
      "source": [
        "#### EDA -Consolidação de dados\n",
        "\n",
        "Aqui definimos quais informações serão usadas no processo de avaliação, definindo critérios de relevância dos dados, restrições de volume de dados, tipos de dados e a qualidade das informações disponíveis. Formatamos as linhas e colunas da tabela."
      ],
      "metadata": {
        "id": "3IK787fekbms"
      }
    },
    {
      "cell_type": "markdown",
      "source": [
        "Agora que temos uma boa compreensão do conjunto de dados, podemos começar a modelagem de algoritmos de machine learning para tentar prever os números a serem sorteados na lotofácil."
      ],
      "metadata": {
        "id": "yHcmJlFsPwKe"
      }
    },
    {
      "cell_type": "markdown",
      "source": [
        "## 4. Modeling\n",
        "\n",
        "### a. Modeling - Modeling\n",
        "\n",
        "Na fase de modelagem vamos preparar os dados para a aplicação dos algoritmos de aprendizado de máquina.\n",
        "\n",
        "Os algoritmos funcionam muito bem com números, portanto vamos facilitar seu trabalho. Poderíamos aplicar aqui, se necessário, alguma técnica de transformação de campos para numéricos, mas já vimos anteriormente que os campos relevantes já são numéricos. Os dados, portanto, devem se encaixar perfeitamente nos algoritmos. \n",
        "\n",
        "Podemos deixar, também, de fora do conjunto de dados, todos aqueles que foram considerados irrelevantes durante a fase de EDA, mas optamos por seguir com o dataframe original porque o tamanho do dataframe é pequeno e não implica em problemas computacionais. \n",
        "\n",
        "Utilizaremos a seguir alguns algoritmos de aprendizado de máquina para criar um modelo que faça a previsão dos números sorteados. Utilizaremos as técnicas de validação adequadas a cada algoritmo (destacadas no código) para avaliar a eficácia do modelo e garantir que ele seja capaz de generalizar para novos dados.\n",
        "\n",
        "* Criar os modelos de previsão: com as técnicas selecionadas, criamos diferentes modelos de previsão utilizando as bibliotecas de machine learning, como Scikit-Learn, Tensorflow ou Keras; Vamos experimentar diferentes modelos e avaliar qual modelo apresenta os melhores resultados.\n",
        "\n",
        "* Avaliar os modelos: utilizaremos as métricas pertinentes, como acurácia, precisão, recall, etc. para avaliar a eficácia dos modelos.\n",
        "\n",
        "* Validação do modelo: usando o conjunto de teste para validar sua eficácia, ajustando os parâmetros para maximizar a precisão da previsão.\n",
        "\n",
        "* Otimização do modelo: com o uso de técnicas como validação cruzada, busca de grade ou algoritmos de otimização para ajustar o modelo e maximizar sua precisão.\n",
        "\n",
        "\n"
      ],
      "metadata": {
        "id": "drAyzP0XFZ4N"
      }
    },
    {
      "cell_type": "markdown",
      "source": [
        "### b. Modeling - Algoritmos de Machine Learning (Aplicados)\n",
        "\n",
        "A ideia principal aqui aplicar técnicas de validação cruzada, inserir os dados nos algoritmos e comparar os resultados.\n",
        "\n",
        "No primeiro ciclo, basta aplicar os dados aos algoritmos e comparar os resultados. Você pode ajustar hiperparâmetros, adicionar validação cruzada e melhorar lentamente suas saídas à medida que itera o ciclo.\n",
        "\n",
        "Antes de começar a apresentar os modelos de algoritmos aplicados, vale lembrar que a escolha do algoritmo depende do problema específico e dos dados disponíveis."
      ],
      "metadata": {
        "id": "sFqVVwWYr_ds"
      }
    },
    {
      "cell_type": "markdown",
      "source": [
        "### Algoritmos de Machine Learning Aplicados\n",
        "\n"
      ],
      "metadata": {
        "id": "QxlvnIaViykv"
      }
    },
    {
      "cell_type": "markdown",
      "source": [
        "#### KNN"
      ],
      "metadata": {
        "id": "VU76aVPPjA-1"
      }
    },
    {
      "cell_type": "markdown",
      "source": [
        "Podemos, a partir desse modelo, construir novos modelos para outros algoritmos mudando basicamente a linha de código onde o modelo é criado.\n",
        "\n"
      ],
      "metadata": {
        "id": "fzkXcw9wmxg7"
      }
    },
    {
      "cell_type": "code",
      "source": [
        "import pandas as pd\n",
        "from sklearn.neighbors import KNeighborsClassifier\n",
        "from sklearn.metrics import accuracy_score, precision_score, recall_score\n",
        "import matplotlib.pyplot as plt\n",
        "\n",
        "# Crie uma instância do modelo KNN com k=5\n",
        "knn = KNeighborsClassifier(n_neighbors=5)\n",
        "\n",
        "# Treine o modelo no conjunto de treinamento\n",
        "knn.fit(X_train, y_train)\n",
        "\n",
        "# Use o modelo para fazer previsões no conjunto de teste\n",
        "y_pred = knn.predict(X_test)\n",
        "\n",
        "# Calcule as métricas de desempenho do modelo\n",
        "accuracy = accuracy_score(y_test, y_pred)\n",
        "precision = precision_score(y_test, y_pred, average='micro')\n",
        "recall = recall_score(y_test, y_pred, average='micro')\n",
        "\n",
        "# Imprima as métricas de desempenho do modelo\n",
        "print(f'Acurácia: {accuracy:.2f}')\n",
        "print(f'Precisão: {precision:.2f}')\n",
        "print(f'Recall: {recall:.2f}')\n",
        "\n",
        "# Crie um conjunto de subplots com histogramas comparando as classes reais e previstas\n",
        "fig, axs = plt.subplots(5, 3, figsize=(10, 12))\n",
        "\n",
        "for i in range(5):\n",
        "    for j in range(3):\n",
        "        axs[i, j].hist([y_test[:,i*3+j], y_pred[:,i*3+j]], color=['blue', 'red'])\n",
        "        axs[i, j].set_title(f'Bola {i*3+j+1}')\n",
        "        \n",
        "plt.tight_layout()\n",
        "plt.show()"
      ],
      "metadata": {
        "id": "rC9Ra1j_-hRy"
      },
      "execution_count": null,
      "outputs": []
    },
    {
      "cell_type": "markdown",
      "source": [
        "Rede Neural Convolucional"
      ],
      "metadata": {
        "id": "cdHB8bVNseUI"
      }
    },
    {
      "cell_type": "code",
      "source": [
        "import pandas as pd\n",
        "import numpy as np\n",
        "import matplotlib.pyplot as plt\n",
        "from sklearn.model_selection import train_test_split\n",
        "from sklearn.preprocessing import StandardScaler\n",
        "from sklearn.neural_network import MLPClassifier\n",
        "from sklearn.metrics import accuracy_score, precision_score, recall_score, f1_score, confusion_matrix\n",
        "\n",
        "# definindo as variáveis explicativas (features) e variável de resposta (target)\n",
        "#X = df.iloc[:, :15]\n",
        "#y = df.iloc[:, 15]\n",
        "\n",
        "# dividindo o conjunto de dados em treinamento e teste\n",
        "# X_train, X_test, y_train, y_test = train_test_split(X, y, test_size=0.2, random_state=42)\n",
        "\n",
        "# escalonando as variáveis explicativas (features)\n",
        "scaler = StandardScaler()\n",
        "X_train = scaler.fit_transform(X_train)\n",
        "X_test = scaler.transform(X_test)\n",
        "\n",
        "# criando e ajustando o modelo de redes neurais convolucionais\n",
        "mlp = MLPClassifier(hidden_layer_sizes=(100, 50), activation='relu', solver='adam', max_iter=1000, random_state=42)\n",
        "mlp.fit(X_train, y_train)\n",
        "\n",
        "# fazendo a predição com os dados de teste\n",
        "y_pred = mlp.predict(X_test)\n",
        "\n",
        "# calculando e imprimindo as métricas do modelo\n",
        "print(\"Acurácia:\", accuracy_score(y_test, y_pred))\n",
        "print(\"Precisão:\", precision_score(y_test, y_pred, average='micro'))\n",
        "print(\"Recall:\", recall_score(y_test, y_pred, average='micro'))\n",
        "print(\"F1 Score:\", f1_score(y_test, y_pred, average='micro'))\n",
        "\n",
        "# criando e plotando a matriz de confusão\n",
        "conf_mat = confusion_matrix(y_test, y_pred)\n",
        "fig, ax = plt.subplots(figsize=(8, 8))\n",
        "ax.imshow(conf_mat)\n",
        "ax.grid(False)\n",
        "ax.set_xlabel('Predição')\n",
        "ax.set_ylabel('Real')\n",
        "ax.xaxis.set(ticks=range(15))\n",
        "ax.yaxis.set(ticks=range(15))\n",
        "ax.set_ylim(14.5, -0.5)\n",
        "for i in range(15):\n",
        "    for j in range(15):\n",
        "        ax.text(j, i, conf_mat[i, j], ha='center', va='center', color='white')\n",
        "plt.show()\n"
      ],
      "metadata": {
        "id": "8GaB8sfyshVd"
      },
      "execution_count": null,
      "outputs": []
    },
    {
      "cell_type": "markdown",
      "source": [
        "#### Regressão Linear"
      ],
      "metadata": {
        "id": "WSq7vVofPW8K"
      }
    },
    {
      "cell_type": "code",
      "source": [
        "import pandas as pd\n",
        "import numpy as np\n",
        "import matplotlib.pyplot as plt\n",
        "from sklearn.linear_model import LinearRegression\n",
        "from sklearn.metrics import accuracy_score, precision_score, recall_score\n",
        "\n",
        "# definir as variáveis de treinamento e teste\n",
        "# X_train, X_test, y_train e y_test já foram definidos anteriormente\n",
        "\n",
        "# ajustar o modelo de regressão linear\n",
        "regressor = LinearRegression()\n",
        "regressor.fit(X_train, y_train)\n",
        "\n",
        "# prever os números para o conjunto de teste\n",
        "y_pred = regressor.predict(X_test)\n",
        "\n",
        "# calcular e imprimir as métricas de avaliação\n",
        "print('Acurácia:', accuracy_score(y_test, y_pred))\n",
        "print('Precisão:', precision_score(y_test, y_pred, average='macro'))\n",
        "print('Recall:', recall_score(y_test, y_pred, average='macro'))\n",
        "\n",
        "# plotar a comparação entre os valores reais e previstos\n",
        "plt.scatter(y_test, y_pred)\n",
        "plt.xlabel('Valores Reais')\n",
        "plt.ylabel('Valores Previstos')\n",
        "plt.show()\n"
      ],
      "metadata": {
        "id": "aTQ_O4VrPamq"
      },
      "execution_count": null,
      "outputs": []
    },
    {
      "cell_type": "markdown",
      "source": [
        "Neste exemplo, estamos importando as bibliotecas necessárias (pandas, numpy, matplotlib, scikit-learn) e definindo as variáveis de treinamento e teste (que já foram definidas anteriormente). Em seguida, estamos ajustando o modelo de regressão linear, utilizando a classe LinearRegression do scikit-learn. Depois, estamos prevendo os números para o conjunto de teste e calculando e imprimindo as métricas de avaliação (acurácia, precisão e recall). Por fim, estamos plotando a comparação entre os valores reais e previstos.\n",
        "\n",
        "Lembrando que este é apenas um exemplo e que pode ser necessário ajustar o código de acordo com as particularidades do seu problema. É importante também se atentar aos cuidados necessários para a aplicação de algoritmos de machine learning em problemas de jogos de azar, como a Lotofacil."
      ],
      "metadata": {
        "id": "SFhNs3VQrhkv"
      }
    },
    {
      "cell_type": "markdown",
      "source": [
        "SVM - Support Vector Machine"
      ],
      "metadata": {
        "id": "GLWslxdOih0r"
      }
    },
    {
      "cell_type": "code",
      "source": [
        "# Importando as bibliotecas necessárias\n",
        "from sklearn.svm import SVC\n",
        "from sklearn.metrics import accuracy_score, precision_score, confusion_matrix\n",
        "import seaborn as sns\n",
        "import matplotlib.pyplot as plt\n",
        "\n",
        "# Definindo o modelo SVM e ajustando aos dados de treinamento\n",
        "model = SVC(kernel='rbf', C=1, gamma='scale', random_state=42)\n",
        "model.fit(X_train, y_train)\n",
        "\n",
        "# Realizando as previsões nos dados de teste\n",
        "y_pred = model.predict(X_test)\n",
        "\n",
        "# Calculando a acurácia e a precisão do modelo\n",
        "accuracy = accuracy_score(y_test, y_pred)\n",
        "precision = precision_score(y_test, y_pred, average='micro')\n",
        "\n",
        "# Imprimindo os resultados\n",
        "print(f'Acurácia: {accuracy:.2f}')\n",
        "print(f'Precisão: {precision:.2f}')\n",
        "\n",
        "# Plotando uma matriz de confusão\n",
        "sns.set(font_scale=1.2)\n",
        "sns.heatmap(confusion_matrix(y_test, y_pred), annot=True, cmap='Blues', fmt='g')\n",
        "plt.xlabel('Previsão')\n",
        "plt.ylabel('Real')\n",
        "plt.show()\n",
        "``\n"
      ],
      "metadata": {
        "id": "Zr2K2JcminNz"
      },
      "execution_count": null,
      "outputs": []
    },
    {
      "cell_type": "markdown",
      "source": [
        "Redes Neural Artificial"
      ],
      "metadata": {
        "id": "cYQb4pw4jIY2"
      }
    },
    {
      "cell_type": "code",
      "source": [
        "# Importando as bibliotecas necessárias\n",
        "import pandas as pd\n",
        "from sklearn.neural_network import MLPClassifier\n",
        "from sklearn.model_selection import train_test_split\n",
        "from sklearn.metrics import accuracy_score, precision_score, recall_score, f1_score\n",
        "import matplotlib.pyplot as plt\n",
        "\n",
        "# Selecionando as variáveis explicativas e a variável de resposta\n",
        "X = df.iloc[:, :-1]\n",
        "y = df.iloc[:, -1]\n",
        "\n",
        "# Dividindo os dados em conjunto de treino e teste\n",
        "X_train, X_test, y_train, y_test = train_test_split(X, y, test_size=0.2, random_state=42)\n",
        "\n",
        "# Criando o modelo de rede neural artificial\n",
        "model = MLPClassifier(hidden_layer_sizes=(100,), max_iter=1000, random_state=42)\n",
        "\n",
        "# Treinando o modelo com os dados de treino\n",
        "model.fit(X_train, y_train)\n",
        "\n",
        "# Fazendo a predição com os dados de teste\n",
        "y_pred = model.predict(X_test)\n",
        "\n",
        "# Calculando e imprimindo as métricas de avaliação do modelo\n",
        "print('Acurácia:', accuracy_score(y_test, y_pred))\n",
        "print('Precisão:', precision_score(y_test, y_pred, average='weighted'))\n",
        "print('Recall:', recall_score(y_test, y_pred, average='weighted'))\n",
        "print('F1-score:', f1_score(y_test, y_pred, average='weighted'))\n",
        "\n",
        "# Gerando um gráfico com a importância das features\n",
        "importance = model.coefs_[0]\n",
        "plt.bar(range(X.shape[1]), importance.ravel())\n",
        "plt.xticks(range(X.shape[1]), X.columns.values, rotation=90)\n",
        "plt.show()\n",
        "\n",
        "# Realizando a predição dos números para o próximo sorteio\n",
        "novo_jogo = df.sample(n=1)\n",
        "numero_predito = model.predict(novo_jogo.iloc[:, :-1])\n",
        "print('Números preditos para o próximo sorteio:', numero_predito)\n"
      ],
      "metadata": {
        "id": "Lsz4lU59jcgG"
      },
      "execution_count": null,
      "outputs": []
    },
    {
      "cell_type": "markdown",
      "source": [
        "Gradient Boost"
      ],
      "metadata": {
        "id": "CMQBwKKkkiIb"
      }
    },
    {
      "cell_type": "code",
      "source": [
        "from sklearn.ensemble import GradientBoostingClassifier\n",
        "from sklearn.metrics import accuracy_score, precision_score, recall_score, f1_score\n",
        "import matplotlib.pyplot as plt\n",
        "import numpy as np\n",
        "\n",
        "# Definindo as variáveis explicativas (features) e a variável de resposta (target)\n",
        "X = df.drop(columns=['Bola 01', 'Bola 02', 'Bola 03', 'Bola 04', 'Bola 05', 'Bola 06', 'Bola 07', 'Bola 08', 'Bola 09', 'Bola 10', 'Bola 11', 'Bola 12', 'Bola 13', 'Bola 14', 'Bola 15'])\n",
        "y = df['Bola 15']\n",
        "\n",
        "# Dividindo os dados em conjuntos de treino e teste\n",
        "X_train, X_test, y_train, y_test = train_test_split(X, y, test_size=0.3, random_state=42)\n",
        "\n",
        "# Criando o modelo de Gradient Boost\n",
        "gb = GradientBoostingClassifier(n_estimators=100, learning_rate=0.1, random_state=42)\n",
        "\n",
        "# Treinando o modelo\n",
        "gb.fit(X_train, y_train)\n",
        "\n",
        "# Fazendo previsões no conjunto de testes\n",
        "y_pred = gb.predict(X_test)\n",
        "\n",
        "# Calculando as métricas de desempenho do modelo\n",
        "accuracy = accuracy_score(y_test, y_pred)\n",
        "precision = precision_score(y_test, y_pred, average='macro')\n",
        "recall = recall_score(y_test, y_pred, average='macro')\n",
        "f1 = f1_score(y_test, y_pred, average='macro')\n",
        "\n",
        "# Imprimindo as métricas\n",
        "print('Acurácia:', accuracy)\n",
        "print('Precisão:', precision)\n",
        "print('Revocação:', recall)\n",
        "print('F1:', f1)\n",
        "\n",
        "# Criando um gráfico de barras com as importâncias das features\n",
        "feature_importances = gb.feature_importances_\n",
        "feature_names = X_train.columns\n",
        "sorted_idx = feature_importances.argsort()\n",
        "y_ticks = np.arange(0, len(feature_names))\n",
        "fig, ax = plt.subplots()\n",
        "ax.barh(y_ticks, feature_importances[sorted_idx])\n",
        "ax.set_yticklabels(feature_names[sorted_idx])\n",
        "ax.set_yticks(y_ticks)\n",
        "ax.set_title(\"Importância das Features\")\n",
        "plt.show()\n"
      ],
      "metadata": {
        "id": "n6gPTr-KlMJb"
      },
      "execution_count": null,
      "outputs": []
    },
    {
      "cell_type": "markdown",
      "source": [
        "Depois, criamos o modelo de Gradient Boost com 100 estimadores e uma taxa de aprendizado de 0,1. Treinamos o modelo com os dados de treino e usamos o modelo para fazer previsões no conjunto de testes.\n",
        "\n",
        "Calculamos várias métricas de desempenho do modelo, incluindo acurácia, precisão, revocação e F1-score.\n",
        "\n",
        "Por fim, criamos um gráfico de barras mostrando a importância relativa de cada feature\n"
      ],
      "metadata": {
        "id": "qEuOmB3flTMa"
      }
    },
    {
      "cell_type": "markdown",
      "source": [
        "Random Forest"
      ],
      "metadata": {
        "id": "p8uhxCsflW5J"
      }
    },
    {
      "cell_type": "code",
      "source": [
        "# Importar bibliotecas necessárias\n",
        "import pandas as pd\n",
        "from sklearn.ensemble import RandomForestClassifier\n",
        "from sklearn.metrics import accuracy_score, precision_score, recall_score, f1_score, roc_auc_score\n",
        "import matplotlib.pyplot as plt\n",
        "\n",
        "# Instanciar o classificador Random Forest\n",
        "rf = RandomForestClassifier(n_estimators=100, random_state=42)\n",
        "\n",
        "# Treinar o modelo com os dados de treinamento\n",
        "rf.fit(X_train, y_train)\n",
        "\n",
        "# Realizar a predição com o modelo treinado\n",
        "y_pred = rf.predict(X_test)\n",
        "\n",
        "# Calcular as métricas de avaliação do modelo\n",
        "accuracy = accuracy_score(y_test, y_pred)\n",
        "precision = precision_score(y_test, y_pred, average='weighted')\n",
        "recall = recall_score(y_test, y_pred, average='weighted')\n",
        "f1 = f1_score(y_test, y_pred, average='weighted')\n",
        "roc_auc = roc_auc_score(y_test, y_pred, multi_class='ovr', average='weighted')\n",
        "\n",
        "# Imprimir as métricas de avaliação\n",
        "print('Accuracy:', accuracy)\n",
        "print('Precision:', precision)\n",
        "print('Recall:', recall)\n",
        "print('F1 Score:', f1)\n",
        "print('ROC AUC Score:', roc_auc)\n",
        "\n",
        "# Plotar a matriz de confusão\n",
        "from sklearn.metrics import plot_confusion_matrix\n",
        "plot_confusion_matrix(rf, X_test, y_test, cmap=plt.cm.Blues)\n",
        "plt.show()\n"
      ],
      "metadata": {
        "id": "CkFhLw_ulrgX"
      },
      "execution_count": null,
      "outputs": []
    },
    {
      "cell_type": "markdown",
      "source": [
        "Arvore de Decisão"
      ],
      "metadata": {
        "id": "gvTkIZcelnho"
      }
    },
    {
      "cell_type": "code",
      "source": [
        "# Importação das bibliotecas necessárias\n",
        "import pandas as pd\n",
        "from sklearn.model_selection import train_test_split\n",
        "from sklearn.tree import DecisionTreeClassifier\n",
        "from sklearn.metrics import accuracy_score, precision_score, recall_score, f1_score\n",
        "import matplotlib.pyplot as plt\n",
        "\n",
        "# Carregamento do dataframe df\n",
        "# Aqui assumimos que o dataframe já está limpo e preparado e que o nome da coluna com o target é 'Bola 15'\n",
        "\n",
        "# Separação dos dados em conjunto de treinamento e teste\n",
        "X = df.drop(['Bola 15'], axis=1)\n",
        "y = df['Bola 15']\n",
        "X_train, X_test, y_train, y_test = train_test_split(X, y, test_size=0.2, random_state=42)\n",
        "\n",
        "# Definição do modelo de árvore de decisão e ajuste aos dados de treinamento\n",
        "clf = DecisionTreeClassifier(random_state=42)\n",
        "clf.fit(X_train, y_train)\n",
        "\n",
        "# Predição dos números para os dados de teste\n",
        "y_pred = clf.predict(X_test)\n",
        "\n",
        "# Cálculo das métricas de avaliação do modelo\n",
        "accuracy = accuracy_score(y_test, y_pred)\n",
        "precision = precision_score(y_test, y_pred, average='weighted')\n",
        "recall = recall_score(y_test, y_pred, average='weighted')\n",
        "f1 = f1_score(y_test, y_pred, average='weighted')\n",
        "\n",
        "# Exibição das métricas de avaliação\n",
        "print(f'Acurácia: {accuracy}')\n",
        "print(f'Precisão: {precision}')\n",
        "print(f'Recall: {recall}')\n",
        "print(f'F1: {f1}')\n",
        "\n",
        "# Exibição da matriz de confusão\n",
        "from sklearn.metrics import plot_confusion_matrix\n",
        "plot_confusion_matrix(clf, X_test, y_test, display_labels=['Não sorteado', 'Sorteado'])\n",
        "\n",
        "# Exibição do gráfico da árvore de decisão\n",
        "from sklearn.tree import plot_tree\n",
        "plt.figure(figsize=(20,10))\n",
        "plot_tree(clf, filled=True)\n",
        "plt.show()\n"
      ],
      "metadata": {
        "id": "WXpQ3NoQmstu"
      },
      "execution_count": null,
      "outputs": []
    },
    {
      "cell_type": "markdown",
      "source": [
        "Ensemble"
      ],
      "metadata": {
        "id": "9va9NRFqm4nZ"
      }
    },
    {
      "cell_type": "code",
      "source": [
        "# Importar bibliotecas necessárias\n",
        "import pandas as pd\n",
        "from sklearn.ensemble import RandomForestClassifier\n",
        "from sklearn.model_selection import train_test_split\n",
        "from sklearn.metrics import accuracy_score, precision_score, recall_score, f1_score, confusion_matrix\n",
        "import matplotlib.pyplot as plt\n",
        "\n",
        "# Carregar o dataframe df\n",
        "df = pd.read_csv('nome_do_arquivo.csv')\n",
        "\n",
        "# Definir as variáveis explicativas (features) e a variável de resposta (target)\n",
        "X = df.drop('Bola 15', axis=1)\n",
        "y = df['Bola 15']\n",
        "\n",
        "# Dividir o conjunto de dados em treino e teste\n",
        "X_train, X_test, y_train, y_test = train_test_split(X, y, test_size=0.3, random_state=42)\n",
        "\n",
        "# Criar o modelo Ensemble\n",
        "model = RandomForestClassifier(n_estimators=100, random_state=42)\n",
        "\n",
        "# Treinar o modelo\n",
        "model.fit(X_train, y_train)\n",
        "\n",
        "# Fazer previsões no conjunto de teste\n",
        "y_pred = model.predict(X_test)\n",
        "\n",
        "# Calcular as métricas de avaliação do modelo\n",
        "accuracy = accuracy_score(y_test, y_pred)\n",
        "precision = precision_score(y_test, y_pred, average='macro')\n",
        "recall = recall_score(y_test, y_pred, average='macro')\n",
        "f1 = f1_score(y_test, y_pred, average='macro')\n",
        "confusion_mat = confusion_matrix(y_test, y_pred)\n",
        "\n",
        "# Imprimir as métricas de avaliação do modelo\n",
        "print(\"Accuracy: {:.2f}%\".format(accuracy*100))\n",
        "print(\"Precision: {:.2f}%\".format(precision*100))\n",
        "print(\"Recall: {:.2f}%\".format(recall*100))\n",
        "print(\"F1 Score: {:.2f}%\".format(f1*100))\n",
        "print(\"Confusion Matrix:\\n\", confusion_mat)\n",
        "\n",
        "# Plotar a matriz de confusão\n",
        "plt.imshow(confusion_mat, cmap='binary')\n",
        "plt.title('Confusion Matrix')\n",
        "plt.colorbar()\n",
        "plt.ylabel('True Label')\n",
        "plt.xlabel('Predicted Label')\n",
        "plt.show()\n"
      ],
      "metadata": {
        "id": "gcKb5ky-m6MN"
      },
      "execution_count": null,
      "outputs": []
    },
    {
      "cell_type": "markdown",
      "source": [
        "Este código utiliza o algoritmo Ensemble para criar um modelo de machine learning capaz de prever os números a serem escolhidos em um tipo de sorteio como a Lotofácil. O conjunto de dados é dividido em treino e teste, e o modelo é treinado no conjunto de treino e testado no conjunto de teste. As métricas de avaliação do modelo são calculadas e exibidas na saída do programa, bem como a matriz de confusão, que é plotada em um gráfico."
      ],
      "metadata": {
        "id": "gOCcTgvDnP1T"
      }
    },
    {
      "cell_type": "markdown",
      "source": [],
      "metadata": {
        "id": "TNcPlZO2nVBT"
      }
    },
    {
      "cell_type": "markdown",
      "source": [
        "## 5. Evaluation\n",
        "\n",
        "Nota: Apesar de termos traduzido o problema como um problema de dados, ele ainda é, de fato, um problema de negócios. Os negócios é que podem diferenciar as boas soluções daquelas que não agregam qualquer valor, e isso é um elemento muito forte para ser usado em conjunto com as métricas.\n",
        "\n",
        "Qualquer modelo elaborado precisa atender aos critérios dos negócios, senão, seja qual for, será um modelo inútil.\n",
        "\n",
        "Cumprimos praticamente todas as etapas do desafio, mas não conseguimos reaplicar ciclos aos algoritmos por absoluta falta de oportunidade. \n",
        "\n",
        "Tivemos grandes dificuldades para codificar as aplicações dos algoritmos, apesar de termos a consciência de que o entendimento do problema em si estava claro no entendimento. A inexperiência em codificar, e os pequenos irritantes detalhes de sintaxe na \"raspagem de bits\" se tornaram grandes empecilhos fazendo-nos gastar mais tempo, muito mais do que podíamos e desejávamos. A pressão foi grande.\n",
        "\n",
        "Criamos códigos para aplicação de muitos algoritmos diferentes, mas sempre algum detalhe menor na codificação prejudicava e impedia que pudessemos ter a visão gráfica final e os valores das métricas para comparar, apesar dessas linhas estarem codificadas nos programas (sic). \n",
        "\n",
        "TODAVIA, do nosso próprio conhecimento implícito da teoria das probabilidades e da clara independência do evento \"sorteio de cada i-ésima bola\", nos dava a segurança de que a expectativa flagrante é que nenhum dos algoritmos seria capaz de fornecer mais uma solução mágica, a exemplo das dezenas que andam livres e soltas por aí. Preferi apresentar o trabalho com essas \"pendências\" porque ele representa exatamente o estágio que eu estou, e eu estou bem feliz porque saí do zero há muito pouco tempo e já me sinto muito mais desenvolto sabendo as perguntas certas o que é mais importante do que ter todas as respostas, por enquanto.\n",
        "\n",
        "As visões mais variadas dos dados na própria fase de EDA deixou isso muito claro, seja nas análises de correlação, mas principalmente na análise que fizemos da entropia da distribuição real dos dados dos sorteios em conjunto com a análise da entropia máxima de uma combinação de 25 numeros por 15. \n",
        "\n",
        "A distribuição quase perfeitamente uniforme já define indica que qualquer análise de tendência baseada em qualquer critério (desde que não viciado, e não é) seria improdutiva. Dessa forma a resposta à pergunta \"porque não tivemos sucesso?\"é evidente. É impossível para esse tipo de distribuição."
      ],
      "metadata": {
        "id": "fkRexgdXwUrY"
      }
    },
    {
      "cell_type": "code",
      "source": [
        "mo"
      ],
      "metadata": {
        "id": "odBz77NUw-l1"
      },
      "execution_count": null,
      "outputs": []
    },
    {
      "cell_type": "markdown",
      "source": [
        "## 6. Deployment (Implementação)\n",
        "\n",
        "Em caso de sucesso, poderiamos implementar e utilizar o modelo selecionado para fazear previsões dos números da Lotofácil. Não há implementação porque nenhum modelo é viável.\n",
        "\n",
        "Mas vale a penas discutir essa questão. Se acaso tivéssemos sucesso, nessa etapa de deployment poderíamos realizar mais uma grande quantidade de testes adicionais para verificar, ratificar e melhorar ainda mais a eficácia do modelo na prática. Esse monitoramento no deployment checando a eficácia e fazendo os ajustes no modelo na medida em que novos dados estivessem disponíveis, nos permitiria atualizar o modelo para melhorar a sua precisão.\n",
        "\n",
        "Na metodologia CRISP-DS o conceito é iterativo, ou seja, precisamos voltar e refinar cada etapa anterior para obter melhores resultados. \n",
        "\n",
        "Essa é a fase do corolário do projeto, onde, de fato, entregamos \"valor\" ao cliente.\n",
        "\n",
        "Com essa metodoliga CRISP-DS, de certa forma muito próxima dos conceitos de metodologias como o PDCA e outras, as fases do projeto e do design da solução, desde o planejamento atencioso, a elaboração, os testes, até a implementação e disponibilização para o uso nos oferece um conjunto de grandes lições aprendidas, com os acertos e também com os erros, e com esses até mais. Isso deve ser registrado para gestão do conhecimento. "
      ],
      "metadata": {
        "id": "e7CrlQMDiTRw"
      }
    },
    {
      "cell_type": "markdown",
      "source": [
        "# It's the end of the world as you know it! I feel fine!\n"
      ],
      "metadata": {
        "id": "D5FRJWJ0nVmD"
      }
    }
  ]
}